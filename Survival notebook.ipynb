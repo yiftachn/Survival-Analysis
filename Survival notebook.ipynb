{
 "cells": [
  {
   "cell_type": "code",
   "execution_count": 17,
   "metadata": {},
   "outputs": [],
   "source": [
    "import sys\n",
    "sys.path.append('/home/yiftach/PycharmProjects/Survival-Analysis')\n",
    "import pandas as pd\n",
    "import matplotlib.pyplot as plt\n",
    "from lifelines import CoxPHFitter\n",
    "pd.options.display.max_seq_items = 200\n",
    "from typing import List\n",
    "import numpy as np\n",
    "from copy import deepcopy\n",
    "from etl.data_loading import get_df_for_stage\n",
    "from etl.train_test_split import impute_nan_values_and_split_to_train_test\n",
    "import config\n",
    "from sksurv.linear_model import CoxnetSurvivalAnalysis, CoxPHSurvivalAnalysis\n",
    "from sksurv.ensemble import RandomSurvivalForest, GradientBoostingSurvivalAnalysis\n",
    "from sksurv.metrics import as_integrated_brier_score_scorer, brier_score\n",
    "from recursive_feature_elimination import get_features_using_rfe\n",
    "from sklearn.model_selection import StratifiedKFold,GridSearchCV\n",
    "SEED = 472"
   ]
  },
  {
   "cell_type": "markdown",
   "metadata": {},
   "source": [
    "# Problem goal"
   ]
  },
  {
   "cell_type": "markdown",
   "metadata": {},
   "source": [
    "to predict survival probabilities for patients in 3, 6, 12 and 24 months - in order to aid clinical decision making. \n",
    "We focus on these times, as they were derieved from the clinical decisions regarding the patient - mostly wheter to operate HIPEC or not. "
   ]
  },
  {
   "cell_type": "markdown",
   "metadata": {},
   "source": [
    "# Data Cleaning"
   ]
  },
  {
   "cell_type": "markdown",
   "metadata": {},
   "source": [
    "we have a dataframe for each stage, pre, intra and post surgery.\n",
    "we begin by cleaning the original data by removing mostly empty columns.\n",
    "for each stage we have a different DataFrame representing the features available for us at that time. \n",
    "Lets look at those df's"
   ]
  },
  {
   "cell_type": "code",
   "execution_count": 3,
   "metadata": {},
   "outputs": [
    {
     "name": "stdout",
     "output_type": "stream",
     "text": [
      "Pre columns\n",
      "['age', 'gender', 'weight', 'height', 'BMI', 'DM', 'HTN', 'Renal', 'IHD', 'COPD', 'obesity', 'Cva', 'asa', 'Tumor_origin', 'survival_time_in_months', 'death']\n",
      "Intra surgery columns\n",
      "['age', 'gender', 'weight', 'height', 'BMI', 'DM', 'HTN', 'Renal', 'IHD', 'COPD', 'obesity', 'Cva', 'asa', 'Tumor_origin', 'survival_time_in_months', 'death', 'hipec_carried_out', 'redo_hipec', 'extra_peritoneal___none', 'extra_peritoneal___liver', 'extra_peritoneal___pancreas', 'extra_peritoneal___rplnd', 'extra_peritoneal___pelvis', 'extra_peritoneal___groin', 'extra_peritoneal___abdominal_wall', 'critical_lesions', 'ascites_drained', 'anastomosis___sb_sb', 'anastomosis___gastro_sb', 'anastomosis___sb_colon', 'anastomosis___colon_colon', 'anastomosis___colon_rectum', 'anastomosis___sb_rectum', 'resections___colon', 'resections___sb', 'resections___anterior_resection', 'resections___spleen', 'resections___pancreas', 'resections___cholecystectomy', 'resections___cystectomy', 'resections___omentum', 'resections___liver', 'resections___stomach', 'resections___uterus_ovarian', 'resections___parietal_peritonectomy', 'resections___pelvic_peritonectomy', 'resections___omental_bursa', 'resections___ruq', 'resections___luq', 'resections___mesenteric_peritonectomy', 'resections___colostomy', 'resections___ileostomy', 'Rt (1) Lt (0)', 'Critical', 'Liver involvment', 'Central', 'RUQ', 'Epigastric', 'LUQ', 'Lt.flank', 'LLQ', 'Pelvic', 'RLQ', 'Rt.flank', 'Upper Jej', 'Low Jej', 'Upper ileum', 'Low ileum', 'PCI', 'SPS', 'Location', 'Pelvic Peritonectomy', 'resections_count', 'anastamoses_count', 'complications_count', 'extra_paritoneal_count']\n",
      "post surgery columns\n",
      "['age', 'gender', 'weight', 'height', 'BMI', 'DM', 'HTN', 'Renal', 'IHD', 'COPD', 'obesity', 'Cva', 'asa', 'Tumor_origin', 'survival_time_in_months', 'death', 'hipec_carried_out', 'redo_hipec', 'extra_peritoneal___none', 'extra_peritoneal___liver', 'extra_peritoneal___pancreas', 'extra_peritoneal___rplnd', 'extra_peritoneal___pelvis', 'extra_peritoneal___groin', 'extra_peritoneal___abdominal_wall', 'critical_lesions', 'ascites_drained', 'anastomosis___sb_sb', 'anastomosis___gastro_sb', 'anastomosis___sb_colon', 'anastomosis___colon_colon', 'anastomosis___colon_rectum', 'anastomosis___sb_rectum', 'resections___colon', 'resections___sb', 'resections___anterior_resection', 'resections___spleen', 'resections___pancreas', 'resections___cholecystectomy', 'resections___cystectomy', 'resections___omentum', 'resections___liver', 'resections___stomach', 'resections___uterus_ovarian', 'resections___parietal_peritonectomy', 'resections___pelvic_peritonectomy', 'resections___omental_bursa', 'resections___ruq', 'resections___luq', 'resections___mesenteric_peritonectomy', 'resections___colostomy', 'resections___ileostomy', 'Rt (1) Lt (0)', 'Critical', 'Liver involvment', 'Central', 'RUQ', 'Epigastric', 'LUQ', 'Lt.flank', 'LLQ', 'Pelvic', 'RLQ', 'Rt.flank', 'Upper Jej', 'Low Jej', 'Upper ileum', 'Low ileum', 'PCI', 'SPS', 'Location', 'Pelvic Peritonectomy', 'or_time', 'ebl', 'packed_cells', 'icu_stay_days', 'hospital_stay_days', 'complications___ssi', 'complications___uti', 'complications___bleeding', 'complications___anastomotic_leak_fistula', 'complications___dvt', 'complications___pe', 'complications___pneumonia', 'complications___other_pulmonary_complications', 'complications___dehiscence', 'complications___collections', 'complications___ileus', 'complications___line_sepsis', 'complications___liver_failure', 'complications___renal_failure', 'complications___other_tromboembolic_event', 'complications___atalectasis', 'Severe Comp type', 'Severe Comp. yes/no', 'Any complicatioj', 'reoperation', 'Patho % ', 'n specimens sub', 'n specimens inv', 'T', 'N', 'M', 'scar_involvement', 'Obsruction (1) /Controll (0)', 'CIS', 'DOX', 'MMC', '5FU+ Leucovorin', 'Melphalan', 'Oxaliplatin', 'resections_count', 'anastamoses_count', 'complications_count', 'extra_paritoneal_count']\n"
     ]
    }
   ],
   "source": [
    "print('Pre columns')\n",
    "print(get_df_for_stage('pre',return_all_features = True).columns.to_list())\n",
    "print('Intra surgery columns')\n",
    "print(get_df_for_stage('intra',return_all_features = True).columns.to_list())\n",
    "print('post surgery columns')\n",
    "print(get_df_for_stage('post',return_all_features = True).columns.to_list())"
   ]
  },
  {
   "cell_type": "markdown",
   "metadata": {},
   "source": [
    "as you can see, we have a lot of features in the post and intra df!"
   ]
  },
  {
   "cell_type": "code",
   "execution_count": 4,
   "metadata": {},
   "outputs": [
    {
     "name": "stdout",
     "output_type": "stream",
     "text": [
      "115\n"
     ]
    }
   ],
   "source": [
    "print(get_df_for_stage('post',return_all_features = True).shape[1])"
   ]
  },
  {
   "cell_type": "markdown",
   "metadata": {},
   "source": [
    "we dropped these columns as they were filled with mostly empty values, or suffered from other critical disadvantage we manually regarded."
   ]
  },
  {
   "cell_type": "code",
   "execution_count": 5,
   "metadata": {},
   "outputs": [
    {
     "name": "stdout",
     "output_type": "stream",
     "text": [
      "['Primay pathology:', 'liver', 'complications___other', 'resections___none', 'anastomosis___none', 'complications___none', 'Gi leaks', 'Bleeding', 'Other', 'Death', 'complications___natropenia', 'complications___delirium', 'Gemzar', 'resections___appendix']\n"
     ]
    }
   ],
   "source": [
    "print(config.FEATURES_TO_DROP)"
   ]
  },
  {
   "cell_type": "code",
   "execution_count": 6,
   "metadata": {},
   "outputs": [
    {
     "name": "stdout",
     "output_type": "stream",
     "text": [
      "We have 38 deaths in our dataset\n"
     ]
    }
   ],
   "source": [
    "print(f'''We have {get_df_for_stage('post')['death'].sum()} deaths in our dataset''')"
   ]
  },
  {
   "cell_type": "markdown",
   "metadata": {},
   "source": [
    "# Feature engineering"
   ]
  },
  {
   "cell_type": "markdown",
   "metadata": {},
   "source": [
    "We have too many features compared to deaths. We will try and deal with this problem in 2 ways:\n",
    "    1)Feature aggragations\n",
    "    2)Feature Selection\n",
    "Our goal will be to reach a model with about ~20 features instead of 120+.\n",
    "`\n"
   ]
  },
  {
   "cell_type": "markdown",
   "metadata": {},
   "source": [
    "We have made simple aggragative features - counting complications, resections and anastamoses.\n",
    "we will check later if keeping only those aggragations is sufficient for good model performance. \n"
   ]
  },
  {
   "cell_type": "code",
   "execution_count": 7,
   "metadata": {},
   "outputs": [
    {
     "data": {
      "text/plain": [
       "0       6\n",
       "1      12\n",
       "2       2\n",
       "3       7\n",
       "4       4\n",
       "       ..\n",
       "209     1\n",
       "210     0\n",
       "211    10\n",
       "212     1\n",
       "213     2\n",
       "Name: resections_count, Length: 212, dtype: int64"
      ]
     },
     "execution_count": 7,
     "metadata": {},
     "output_type": "execute_result"
    }
   ],
   "source": [
    "get_df_for_stage('post',return_all_features = True,keep_only_aggs=False)['resections_count']"
   ]
  },
  {
   "cell_type": "code",
   "execution_count": 8,
   "metadata": {},
   "outputs": [
    {
     "name": "stdout",
     "output_type": "stream",
     "text": [
      "115 columns without aggs\n",
      "68 columns with aggs\n"
     ]
    }
   ],
   "source": [
    "print(f\"{get_df_for_stage('post',return_all_features = True,keep_only_aggs=False).shape[1]} columns without aggs\")\n",
    "print(f\"{get_df_for_stage('post',return_all_features = True,keep_only_aggs=True).shape[1]} columns with aggs\")"
   ]
  },
  {
   "cell_type": "markdown",
   "metadata": {},
   "source": [
    "A utiliy function to filter DataFrame columns from a list"
   ]
  },
  {
   "cell_type": "code",
   "execution_count": 9,
   "metadata": {},
   "outputs": [],
   "source": [
    "def filter_df_columns_from_list(df:pd.DataFrame,features_list:List[str]) -> pd.DataFrame:\n",
    "    return df[df.columns.intersection(features_list)]"
   ]
  },
  {
   "cell_type": "code",
   "execution_count": 10,
   "metadata": {},
   "outputs": [
    {
     "data": {
      "text/html": [
       "<div>\n",
       "<style scoped>\n",
       "    .dataframe tbody tr th:only-of-type {\n",
       "        vertical-align: middle;\n",
       "    }\n",
       "\n",
       "    .dataframe tbody tr th {\n",
       "        vertical-align: top;\n",
       "    }\n",
       "\n",
       "    .dataframe thead th {\n",
       "        text-align: right;\n",
       "    }\n",
       "</style>\n",
       "<table border=\"1\" class=\"dataframe\">\n",
       "  <thead>\n",
       "    <tr style=\"text-align: right;\">\n",
       "      <th></th>\n",
       "      <th>SPS</th>\n",
       "    </tr>\n",
       "  </thead>\n",
       "  <tbody>\n",
       "    <tr>\n",
       "      <th>0</th>\n",
       "      <td>0</td>\n",
       "    </tr>\n",
       "    <tr>\n",
       "      <th>1</th>\n",
       "      <td>1</td>\n",
       "    </tr>\n",
       "  </tbody>\n",
       "</table>\n",
       "</div>"
      ],
      "text/plain": [
       "   SPS\n",
       "0    0\n",
       "1    1"
      ]
     },
     "execution_count": 10,
     "metadata": {},
     "output_type": "execute_result"
    }
   ],
   "source": [
    "df = get_df_for_stage('post',return_all_features = True,keep_only_aggs=False)\n",
    "filter_df_columns_from_list(df,['SPS','junk_column']).head(2)"
   ]
  },
  {
   "cell_type": "markdown",
   "metadata": {},
   "source": [
    "# Evaluation Metrics"
   ]
  },
  {
   "cell_type": "markdown",
   "metadata": {},
   "source": [
    "Since we want to report Survival Probabilites in specific moments,\n",
    "we choose the Brier Score as our evaluation metric - as it measures both calibration and precision/recall.\n",
    "It's defined as mean(is_dead_at_time_t - survival prediction)^2. \n",
    "Our libraries use negative brier score (-1*brier) as it allows them to maximize rather than minimize. \n",
    "\n",
    "We will report concordance as well as it is well accepted in the literature but we believe it is not relevant for\n",
    "our clinical purpose as we are not interested in rank, nor in a binary prediction."
   ]
  },
  {
   "cell_type": "markdown",
   "metadata": {},
   "source": [
    "A random model gives 0.25 brier score. \n",
    "Following Jensens Inequallity for concave functions, we know that\n",
    "$\\sqrt{Brier Score} >= mean(\\sqrt{(label - precition)^2)}$.\n",
    "Thus, a Brier score of 0.06 for example means that \n",
    "\n",
    "explanation:\n",
    "    if we got a brier score of 0.06 than $mean((label-predX_train_validation == 0.06$.\n",
    "    $\\sqrt{Brier Score} >= mean(\\sqrt{(label - precition)^2)} == mean(label-prediction)$,\n",
    "    so that means that the mean difference between label and prediction is $\\sqrt{0.06} =  0.25$.\n",
    "    for a prediction of 0.8 probability of survival, the real survival prob should be between 0.6 and 1 (on the average case...)"
   ]
  },
  {
   "cell_type": "markdown",
   "metadata": {},
   "source": [
    "# Cross Validation Method"
   ]
  },
  {
   "cell_type": "markdown",
   "metadata": {},
   "source": [
    "We keep ~0.2 of our data aside as test, stratified on number of deaths. This is a bit problematic as we may have split of data with deaths occuring at very different time,\n",
    "and our model is time specific. That means we can't take the test results for granted.\n",
    "The dataset is too small to cope with such a problem, so we'll have to cross our fingers."
   ]
  },
  {
   "cell_type": "code",
   "execution_count": 11,
   "metadata": {},
   "outputs": [
    {
     "name": "stdout",
     "output_type": "stream",
     "text": [
      "ratio between test and train size: 0.25443786982248523\n"
     ]
    }
   ],
   "source": [
    "X_train_validation, X_test, y_train_validation, y_test = impute_nan_values_and_split_to_train_test(get_df_for_stage('post',return_all_features=True),seed = SEED)\n",
    "print(f\"ratio between test and train size: {len(y_test)/len(y_train_validation)}\")                                                                                                  "
   ]
  },
  {
   "cell_type": "markdown",
   "metadata": {},
   "source": [
    "On our Train_validate set, we report scores averaged on 3 kfolds. The folds are stratified based on their deaths counts\n",
    ". \n",
    "from our death code validation function:\n"
   ]
  },
  {
   "cell_type": "markdown",
   "metadata": {},
   "source": [
    "    'cv = StratifiedKFold(n_splits=n_splits,shuffle=True,random_state=SEED)\n",
    "    indices = [x for x in cv.split(X,y['death'])]'"
   ]
  },
  {
   "cell_type": "markdown",
   "metadata": {},
   "source": [
    "# Model Selection"
   ]
  },
  {
   "cell_type": "markdown",
   "metadata": {},
   "source": [
    "We have ran many tests, which are recorded in our Weights And Biases space.\n",
    "As obvious from this report, it is clear that Random Survival Forest gave the best scores in almost every dataset stage and time.\n",
    "In this conclusive notebook we will not try out other algorithms.\n",
    "\n",
    "note: We ran Deep models like MTLR and Deepsurv and got inferior results - BUT we havn't made hyperparameters search on these.\n",
    "    So we can asses properly whether they would have been better. \n",
    "    "
   ]
  },
  {
   "cell_type": "markdown",
   "metadata": {},
   "source": [
    "For Model Selection, we have made the following process:\n",
    "    1. hyperparamter search over all the features - \n",
    "    2. Feature Selection based on chosen hyperparameters.\n",
    "    3. Rigorous hyperparameters search with selected features.\n",
    "\n",
    "Our application serves different model for each time and dataset stage, here we will look at Intra, 6 months. "
   ]
  },
  {
   "cell_type": "code",
   "execution_count": 11,
   "metadata": {},
   "outputs": [],
   "source": [
    "stage = 'intra'\n",
    "time = 6"
   ]
  },
  {
   "cell_type": "markdown",
   "metadata": {},
   "source": [
    "<iframe src=\"https://wandb.ai/survival_analysis/Survival-Analysis-models/reports/Shared-panel-21-11-04-00-11-25--VmlldzoxMTg1NzAz?highlightShare\" style=\"border:none;height:200px;width:100%\">"
   ]
  },
  {
   "cell_type": "markdown",
   "metadata": {},
   "source": [
    "## Hyperparameter search over all features"
   ]
  },
  {
   "cell_type": "markdown",
   "metadata": {},
   "source": [
    "as obvious from this plot, we have ran many models. We choose one of them, which is:"
   ]
  },
  {
   "cell_type": "code",
   "execution_count": 12,
   "metadata": {},
   "outputs": [],
   "source": [
    "intra_6_rsf = RandomSurvivalForest(n_estimators=1000, min_samples_split=10,min_samples_leaf=30)\n",
    "#and lets add another gradient boosting for fun\n",
    "intra_6_gbm = GradientBoostingSurvivalAnalysis(loss=\"coxph\", learning_rate=0.05, n_estimators=1000,\n",
    "                                           min_samples_split=5, min_samples_leaf=3, max_depth=3, random_state=0)"
   ]
  },
  {
   "attachments": {
    "Screenshot%20from%202021-11-04%2001-01-02.png": {
     "image/png": "[encoded data removed]"
    }
   },
   "cell_type": "markdown",
   "metadata": {},
   "source": [
    "![Screenshot%20from%202021-11-04%2001-01-02.png](attachment:Screenshot%20from%202021-11-04%2001-01-02.png)"
   ]
  },
  {
   "cell_type": "markdown",
   "metadata": {},
   "source": [
    "by the way, it's obvious from this plot that no matter the model, the time of prediction is the most important factor of prediction quality. "
   ]
  },
  {
   "cell_type": "markdown",
   "metadata": {},
   "source": [
    "## Feature Selection"
   ]
  },
  {
   "cell_type": "markdown",
   "metadata": {},
   "source": [
    "We ran Recursive Feature Selection we implemented (sklearn's won't fit survival cencored data).\n",
    "This function looks for feature scores with and without each of the k features, than greedly select the k-1 features for the next iteration.\n",
    "The score it calculates is Integrated Brier Score on qeuried times. In our case, only one time of interest. \n",
    "IT TAKES A VERY LONG TIME TO COMPUTE! I will show an example on the dataset with only the aggragated features, as it contains only 65~ features instead of 110~ features, so it is lighter.  \n",
    "\n",
    "\n",
    "\n",
    "best features using GBM on all times of interest\n",
    "['weight', 'height', 'obesity', 'Liver involvment', 'RUQ', 'Epigastric', 'LUQ', 'LLQ', 'Low Jej', 'PCI', 'SPS', 'or_time', 'icu_stay_days', 'hospital_stay_days', 'reoperation', 'Patho % ', 'n specimens inv', 'N', 'scar_involvement', '5FU+ Leucovorin']\n",
    "\n"
   ]
  },
  {
   "cell_type": "code",
   "execution_count": 13,
   "metadata": {},
   "outputs": [],
   "source": [
    "X_train_validation_only_aggs, X_test_only_aggs, y_train_validation, y_test = impute_nan_values_and_split_to_train_test(get_df_for_stage('post',return_all_features=True,keep_only_aggs = True),seed = SEED)\n",
    "intra_6_rsf_only_aggs = RandomSurvivalForest(n_estimators=1000, min_samples_split=10,min_samples_leaf=30)\n",
    "#and lets add another gradient boosting for fun\n",
    "intra_6_gbm_only_aggs = GradientBoostingSurvivalAnalysis(loss=\"coxph\", learning_rate=0.05, n_estimators=1000,\n",
    "                                           min_samples_split=5, min_samples_leaf=3, max_depth=3, random_state=0)"
   ]
  },
  {
   "cell_type": "code",
   "execution_count": null,
   "metadata": {
    "tags": []
   },
   "outputs": [
    {
     "name": "stdout",
     "output_type": "stream",
     "text": [
      "len of current features: 66\n",
      "len of current features: 65\n",
      "len of current features: 64\n",
      "len of current features: 63\n",
      "len of current features: 62\n",
      "len of current features: 61\n",
      "len of current features: 60\n"
     ]
    }
   ],
   "source": [
    "best_20_features_intra_6_rsf_only_aggs = get_features_using_rfe(\n",
    "    X_train_validation_only_aggs,y_train_validation,intra_6_rsf,times=6,n_features_to_keep=20)\n",
    "best_20_features_intra_6_gbm_only_aggs = get_features_using_rfe(\n",
    "    X_train_validation_only_aggs,y_train_validation,intra_6_gbm,times=6,n_features_to_keep=20)"
   ]
  },
  {
   "cell_type": "code",
   "execution_count": null,
   "metadata": {
    "tags": []
   },
   "outputs": [],
   "source": [
    "print('Best RSF_only_aggs Features for 6 months intra:')\n",
    "print(best_20_features_intra_6_rsf_only_aggs)\n",
    "print('Best GBM_only_aggs Features for 6 months intra:')\n",
    "print(best_20_features_intra_6_gbm_only_aggs)\n",
    "print('this are the mutual features:')\n",
    "print(set(best_20_features_intra_6_gbm_only_aggs).intersection(set(best_20_features_intra_6_rsf_only_aggs)))"
   ]
  },
  {
   "cell_type": "markdown",
   "metadata": {},
   "source": [
    "Now we will Use Weights and Biases to choose the best models on the val set.\n",
    "We were carefull to use the same indices of this notebook's train and test to prevent leakage.\n",
    "1. RSF brier val scores - \n",
    "2. GMB brier val scores - \n"
   ]
  },
  {
   "cell_type": "markdown",
   "metadata": {},
   "source": [
    "Becuase we don't want the user to insert all features, it's quite unclear how to select the best set of features to be used on all times.\n",
    "We finally setteled for these set of features:"
   ]
  },
  {
   "cell_type": "code",
   "execution_count": null,
   "metadata": {
    "tags": []
   },
   "outputs": [],
   "source": [
    "stage = 'post'\n",
    "time = 12\n",
    "times = (3, 6, 12, 24)\n",
    "df = get_df_for_stage(stage, return_all_features=True, keep_only_aggs=True)\n",
    "X_train_validation, X_test, y_train_validation, y_test = impute_nan_values_and_split_to_train_test(df, seed=0)\n",
    "clf = GradientBoostingSurvivalAnalysis(loss=\"coxph\", learning_rate=0.05, n_estimators=1000,\n",
    "                                       min_samples_split=5, min_samples_leaf=3, max_depth=3, random_state=0)\n",
    "print(f'{clf} feature elimination on {times}  months on {stage} dataset ')\n",
    "best_features = get_features_using_rfe(X_train_validation, y_train_validation, model=clf, times=times,\n",
    "                                       n_features_to_keep=20)\n",
    "print(best_features)"
   ]
  },
  {
   "cell_type": "code",
   "execution_count": 12,
   "metadata": {},
   "outputs": [],
   "source": [
    "# if restarted the kernel and you want to avoid the re-calculation\n",
    "# best_features = ['weight', 'height', 'obesity', 'Liver involvment', 'RUQ', 'Epigastric', 'LUQ', 'LLQ', 'Low Jej', 'PCI', 'SPS', 'or_time', 'icu_stay_days', 'hospital_stay_days', 'reoperation', 'Patho % ', 'n specimens inv', 'N', 'scar_involvement', '5FU+ Leucovorin']"
   ]
  },
  {
   "cell_type": "markdown",
   "metadata": {},
   "source": [
    "We used Recursive feature elimination with a GBM model, evaluated on all times of intereset (3,6,12,24 months) - on the aggragated dataset only. \n",
    "When we inspected the results we appriciated this set of features for two reasons:\n",
    "1) They comply with the current domain knowledge - many of these features were marked as important before our study, e.g SPS, PCI, Liver Involvment...\n",
    "2) They represented all of the times of intereset - The patient \"base\" physical state (age, weight), the operation itself which affects immidiate survival (operation time) and of course the disease state (PCI,SPS etc).\n",
    "3) They reached relatively good scores.\n",
    "\n",
    "It's possible a best set of features exists and it is recommended to keep researching this point further. "
   ]
  },
  {
   "cell_type": "markdown",
   "metadata": {},
   "source": [
    "## MODEL SELECTION"
   ]
  },
  {
   "cell_type": "markdown",
   "metadata": {},
   "source": [
    "One of our first goals was to fit a model for each time of interest. Our reasoning was that different features are important for each time.\n",
    "for example - The first 3 months are probably more affected by operation complications than the cancer itself.\n",
    "After 12 months from operation, it's less likely (a-priori) to die from the operation itself, and cancer or other causes of disease are more releavnt.\n",
    "Because of a lack of time, out application does not support this feature - we use only a single set of features, and a single model (because we found a set of hyperparameters that was good overall).\n",
    "\n",
    "In this notebook we will show them both."
   ]
  },
  {
   "cell_type": "markdown",
   "metadata": {},
   "source": [
    "### Evaluation functions - startified negative brier and concordance"
   ]
  },
  {
   "cell_type": "code",
   "execution_count": 13,
   "metadata": {},
   "outputs": [],
   "source": [
    "def get_stratified_cross_val_brier_scores(X_train_validation, y_train_validation, model, time):\n",
    "    skf = StratifiedKFold(n_splits=3, random_state=0, shuffle=True)\n",
    "    scores = []\n",
    "    for train_index, validation_index in skf.split(X_train_validation, pd.DataFrame(y_train_validation)[\"death\"]):\n",
    "        X_train_fold, X_validation_fold = X_train_validation.iloc[train_index,:], X_train_validation.iloc[validation_index,:]\n",
    "        y_train_fold, y_validation_fold = y_train_validation[train_index], y_train_validation[validation_index]\n",
    "        clf = deepcopy(model)\n",
    "        scorer = as_integrated_brier_score_scorer(estimator=clf, times=[time, time+0.001])\n",
    "        scorer.fit(X_train_fold, y_train_fold)\n",
    "        scores.append(scorer.score(X_validation_fold, y_validation_fold))\n",
    "        average_negative_brier_score = np.mean(scores)\n",
    "    return average_negative_brier_score\n",
    "\n",
    "\n",
    "def get_stratified_concordance_scores(X_train_validation, y_train_validation, model, time):\n",
    "    skf = StratifiedKFold(n_splits=3, random_state=0, shuffle=True)\n",
    "    scores = []\n",
    "    for train_index, validation_index in skf.split(X_train_validation, pd.DataFrame(y_train_validation)[\"death\"]):\n",
    "        X_train_fold, X_validation_fold = X_train_validation.iloc[train_index,:], X_train_validation.iloc[validation_index,:]\n",
    "        y_train_fold, y_validation_fold = y_train_validation[train_index], y_train_validation[validation_index]\n",
    "        clf = deepcopy(model)\n",
    "        clf.fit(X_train_fold, y_train_fold)\n",
    "        scores.append(clf.score(X_validation_fold, y_validation_fold))\n",
    "        average_negative_brier_score = np.mean(scores)\n",
    "    # print(\"concordance scores cross val\", scores)\n",
    "    return average_negative_brier_score"
   ]
  },
  {
   "cell_type": "markdown",
   "metadata": {},
   "source": [
    "We used hyperparameter search.\n",
    "\n",
    "we setteled for these two models: "
   ]
  },
  {
   "cell_type": "markdown",
   "metadata": {},
   "source": [
    "## Single model fitted on specific times"
   ]
  },
  {
   "cell_type": "code",
   "execution_count": 15,
   "metadata": {},
   "outputs": [],
   "source": [
    "single_rsf_model = RandomSurvivalForest(min_samples_leaf=5, min_samples_split=20, n_estimators=100)\n",
    "single_gbm_model = GradientBoostingSurvivalAnalysis(loss=\"coxph\", learning_rate=0.05, n_estimators=1000,\n",
    "                                           min_samples_split=5, min_samples_leaf=20, max_depth=5)\n"
   ]
  },
  {
   "cell_type": "markdown",
   "metadata": {},
   "source": [
    "And our baseline model is a Cox model"
   ]
  },
  {
   "cell_type": "code",
   "execution_count": 19,
   "metadata": {},
   "outputs": [],
   "source": [
    "# baseline_cox = CoxnetSurvivalAnalysis(l1_ratio = 1e-8, fit_baseline_model=True)\n",
    "baseline_cox = CoxPHSurvivalAnalysis(alpha=0.0001)\n"
   ]
  },
  {
   "cell_type": "markdown",
   "metadata": {},
   "source": [
    "#### Lets Test them!"
   ]
  },
  {
   "cell_type": "code",
   "execution_count": 20,
   "metadata": {
    "tags": []
   },
   "outputs": [],
   "source": [
    "rsf_tests = []\n",
    "gbm_tests = []\n",
    "cox_tests = []\n",
    "for time in [3,6,12,24]:\n",
    "    for stage in ['pre','post','intra']:\n",
    "        stage_df = get_df_for_stage(stage,return_all_features = True, keep_only_aggs = True)\n",
    "        X_train_validation, X_test, y_train_validation, y_test = impute_nan_values_and_split_to_train_test(stage_df,seed = 0)\n",
    "        X_train_validation = filter_df_columns_from_list(X_train_validation,best_features)\n",
    "        X_test = filter_df_columns_from_list(X_test,best_features)\n",
    "        \n",
    "        rsf_eval_brier_score = get_stratified_cross_val_brier_scores(X_train_validation,y_train_validation,single_rsf_model,time)\n",
    "        gbm_eval_brier_score = get_stratified_cross_val_brier_scores(X_train_validation,y_train_validation,single_gbm_model,time)\n",
    "        cox_eval_brier_score = get_stratified_cross_val_brier_scores(X_train_validation,y_train_validation,baseline_cox,time)\n",
    "\n",
    "        \n",
    "        rsf_eval_c_score = get_stratified_concordance_scores(X_train_validation,y_train_validation,single_rsf_model,time)\n",
    "        gbm_eval_c_score = get_stratified_concordance_scores(X_train_validation,y_train_validation,single_gbm_model,time)\n",
    "        cox_eval_c_score = get_stratified_concordance_scores(X_train_validation,y_train_validation,baseline_cox,time)\n",
    "\n",
    "        \n",
    "        single_rsf_model.fit(X_train_validation,y_train_validation)\n",
    "        rsf_test_c1_score = single_rsf_model.score(X_test,y_test)\n",
    "        single_gbm_model.fit(X_train_validation,y_train_validation)\n",
    "        gbm_test_c1_score = single_gbm_model.score(X_test,y_test)\n",
    "        baseline_cox.fit(X_train_validation,y_train_validation)\n",
    "        cox_test_c1_score = baseline_cox.score(X_test,y_test)\n",
    "        \n",
    "        rsf_scorer = as_integrated_brier_score_scorer(estimator=single_rsf_model, times=[time, time+0.001])\n",
    "        rsf_scorer.fit(X_train_validation,y_train_validation)\n",
    "        rsf_test_brier_score = np.abs(rsf_scorer.score(X_test, y_test))\n",
    "        \n",
    "        gbm_scorer = as_integrated_brier_score_scorer(estimator=single_gbm_model, times=[time, time+0.001])\n",
    "        gbm_scorer.fit(X_train_validation,y_train_validation)\n",
    "        gbm_test_brier_score = np.abs(gbm_scorer.score(X_test, y_test))\n",
    "        \n",
    "        cox_scorer = as_integrated_brier_score_scorer(estimator=baseline_cox, times=[time, time+0.001])\n",
    "        cox_scorer.fit(X_train_validation,y_train_validation)\n",
    "        cox_test_brier_score = np.abs(cox_scorer.score(X_test, y_test))\n",
    "        \n",
    "        rsf_tests.append({'time':time,'stage':stage,'brier_eval_score':rsf_eval_brier_score,'c-index eval':rsf_eval_c_score,'brier_test_score':rsf_test_brier_score,'c-index_test_score':rsf_test_c1_score})\n",
    "        gbm_tests.append({'time':time,'stage':stage,'brier_eval_score':gbm_eval_brier_score,'c-index eval':gbm_eval_c_score,'brier_test_score':gbm_test_brier_score,'c-index_test_score':gbm_test_c1_score})\n",
    "        cox_tests.append({'time':time,'stage':stage,'brier_eval_score':cox_eval_brier_score,'c-index eval':cox_eval_c_score,'brier_test_score':cox_test_brier_score,'c-index_test_score':cox_test_c1_score})\n",
    "\n",
    "        "
   ]
  },
  {
   "cell_type": "markdown",
   "metadata": {},
   "source": [
    "### RESULTS ANALYSIS"
   ]
  },
  {
   "cell_type": "code",
   "execution_count": 21,
   "metadata": {},
   "outputs": [
    {
     "data": {
      "text/html": [
       "<div>\n",
       "<style scoped>\n",
       "    .dataframe tbody tr th:only-of-type {\n",
       "        vertical-align: middle;\n",
       "    }\n",
       "\n",
       "    .dataframe tbody tr th {\n",
       "        vertical-align: top;\n",
       "    }\n",
       "\n",
       "    .dataframe thead th {\n",
       "        text-align: right;\n",
       "    }\n",
       "</style>\n",
       "<table border=\"1\" class=\"dataframe\">\n",
       "  <thead>\n",
       "    <tr style=\"text-align: right;\">\n",
       "      <th></th>\n",
       "      <th>time</th>\n",
       "      <th>stage</th>\n",
       "      <th>brier_eval_score</th>\n",
       "      <th>c-index eval</th>\n",
       "      <th>brier_test_score</th>\n",
       "      <th>c-index_test_score</th>\n",
       "    </tr>\n",
       "  </thead>\n",
       "  <tbody>\n",
       "    <tr>\n",
       "      <th>0</th>\n",
       "      <td>3</td>\n",
       "      <td>pre</td>\n",
       "      <td>-0.038085</td>\n",
       "      <td>0.364649</td>\n",
       "      <td>0.027209</td>\n",
       "      <td>0.463889</td>\n",
       "    </tr>\n",
       "    <tr>\n",
       "      <th>1</th>\n",
       "      <td>3</td>\n",
       "      <td>post</td>\n",
       "      <td>-0.036612</td>\n",
       "      <td>0.560562</td>\n",
       "      <td>0.023600</td>\n",
       "      <td>0.755556</td>\n",
       "    </tr>\n",
       "    <tr>\n",
       "      <th>2</th>\n",
       "      <td>3</td>\n",
       "      <td>intra</td>\n",
       "      <td>-0.035545</td>\n",
       "      <td>0.464475</td>\n",
       "      <td>0.023700</td>\n",
       "      <td>0.594444</td>\n",
       "    </tr>\n",
       "    <tr>\n",
       "      <th>3</th>\n",
       "      <td>6</td>\n",
       "      <td>pre</td>\n",
       "      <td>-0.057846</td>\n",
       "      <td>0.364649</td>\n",
       "      <td>0.058239</td>\n",
       "      <td>0.463889</td>\n",
       "    </tr>\n",
       "    <tr>\n",
       "      <th>4</th>\n",
       "      <td>6</td>\n",
       "      <td>post</td>\n",
       "      <td>-0.055190</td>\n",
       "      <td>0.560562</td>\n",
       "      <td>0.051872</td>\n",
       "      <td>0.755556</td>\n",
       "    </tr>\n",
       "    <tr>\n",
       "      <th>5</th>\n",
       "      <td>6</td>\n",
       "      <td>intra</td>\n",
       "      <td>-0.055742</td>\n",
       "      <td>0.464475</td>\n",
       "      <td>0.051407</td>\n",
       "      <td>0.594444</td>\n",
       "    </tr>\n",
       "    <tr>\n",
       "      <th>6</th>\n",
       "      <td>12</td>\n",
       "      <td>pre</td>\n",
       "      <td>-0.087175</td>\n",
       "      <td>0.364649</td>\n",
       "      <td>0.084686</td>\n",
       "      <td>0.463889</td>\n",
       "    </tr>\n",
       "    <tr>\n",
       "      <th>7</th>\n",
       "      <td>12</td>\n",
       "      <td>post</td>\n",
       "      <td>-0.082103</td>\n",
       "      <td>0.560562</td>\n",
       "      <td>0.079999</td>\n",
       "      <td>0.755556</td>\n",
       "    </tr>\n",
       "    <tr>\n",
       "      <th>8</th>\n",
       "      <td>12</td>\n",
       "      <td>intra</td>\n",
       "      <td>-0.082773</td>\n",
       "      <td>0.464475</td>\n",
       "      <td>0.074990</td>\n",
       "      <td>0.594444</td>\n",
       "    </tr>\n",
       "    <tr>\n",
       "      <th>9</th>\n",
       "      <td>24</td>\n",
       "      <td>pre</td>\n",
       "      <td>-0.166049</td>\n",
       "      <td>0.364649</td>\n",
       "      <td>0.221005</td>\n",
       "      <td>0.463889</td>\n",
       "    </tr>\n",
       "    <tr>\n",
       "      <th>10</th>\n",
       "      <td>24</td>\n",
       "      <td>post</td>\n",
       "      <td>-0.172391</td>\n",
       "      <td>0.560562</td>\n",
       "      <td>0.144368</td>\n",
       "      <td>0.755556</td>\n",
       "    </tr>\n",
       "    <tr>\n",
       "      <th>11</th>\n",
       "      <td>24</td>\n",
       "      <td>intra</td>\n",
       "      <td>-0.172233</td>\n",
       "      <td>0.464475</td>\n",
       "      <td>0.201233</td>\n",
       "      <td>0.594444</td>\n",
       "    </tr>\n",
       "  </tbody>\n",
       "</table>\n",
       "</div>"
      ],
      "text/plain": [
       "    time  stage  brier_eval_score  c-index eval  brier_test_score  \\\n",
       "0      3    pre         -0.038085      0.364649          0.027209   \n",
       "1      3   post         -0.036612      0.560562          0.023600   \n",
       "2      3  intra         -0.035545      0.464475          0.023700   \n",
       "3      6    pre         -0.057846      0.364649          0.058239   \n",
       "4      6   post         -0.055190      0.560562          0.051872   \n",
       "5      6  intra         -0.055742      0.464475          0.051407   \n",
       "6     12    pre         -0.087175      0.364649          0.084686   \n",
       "7     12   post         -0.082103      0.560562          0.079999   \n",
       "8     12  intra         -0.082773      0.464475          0.074990   \n",
       "9     24    pre         -0.166049      0.364649          0.221005   \n",
       "10    24   post         -0.172391      0.560562          0.144368   \n",
       "11    24  intra         -0.172233      0.464475          0.201233   \n",
       "\n",
       "    c-index_test_score  \n",
       "0             0.463889  \n",
       "1             0.755556  \n",
       "2             0.594444  \n",
       "3             0.463889  \n",
       "4             0.755556  \n",
       "5             0.594444  \n",
       "6             0.463889  \n",
       "7             0.755556  \n",
       "8             0.594444  \n",
       "9             0.463889  \n",
       "10            0.755556  \n",
       "11            0.594444  "
      ]
     },
     "execution_count": 21,
     "metadata": {},
     "output_type": "execute_result"
    }
   ],
   "source": [
    "gbm_results = pd.DataFrame(gbm_tests)\n",
    "gbm_results"
   ]
  },
  {
   "cell_type": "code",
   "execution_count": 22,
   "metadata": {},
   "outputs": [
    {
     "data": {
      "text/html": [
       "<div>\n",
       "<style scoped>\n",
       "    .dataframe tbody tr th:only-of-type {\n",
       "        vertical-align: middle;\n",
       "    }\n",
       "\n",
       "    .dataframe tbody tr th {\n",
       "        vertical-align: top;\n",
       "    }\n",
       "\n",
       "    .dataframe thead th {\n",
       "        text-align: right;\n",
       "    }\n",
       "</style>\n",
       "<table border=\"1\" class=\"dataframe\">\n",
       "  <thead>\n",
       "    <tr style=\"text-align: right;\">\n",
       "      <th></th>\n",
       "      <th>time</th>\n",
       "      <th>stage</th>\n",
       "      <th>brier_eval_score</th>\n",
       "      <th>c-index eval</th>\n",
       "      <th>brier_test_score</th>\n",
       "      <th>c-index_test_score</th>\n",
       "    </tr>\n",
       "  </thead>\n",
       "  <tbody>\n",
       "    <tr>\n",
       "      <th>0</th>\n",
       "      <td>3</td>\n",
       "      <td>pre</td>\n",
       "      <td>-0.037140</td>\n",
       "      <td>0.320967</td>\n",
       "      <td>0.023941</td>\n",
       "      <td>0.463889</td>\n",
       "    </tr>\n",
       "    <tr>\n",
       "      <th>1</th>\n",
       "      <td>3</td>\n",
       "      <td>post</td>\n",
       "      <td>-0.035223</td>\n",
       "      <td>0.649546</td>\n",
       "      <td>0.023508</td>\n",
       "      <td>0.733333</td>\n",
       "    </tr>\n",
       "    <tr>\n",
       "      <th>2</th>\n",
       "      <td>3</td>\n",
       "      <td>intra</td>\n",
       "      <td>-0.036438</td>\n",
       "      <td>0.416043</td>\n",
       "      <td>0.023267</td>\n",
       "      <td>0.644444</td>\n",
       "    </tr>\n",
       "    <tr>\n",
       "      <th>3</th>\n",
       "      <td>6</td>\n",
       "      <td>pre</td>\n",
       "      <td>-0.057029</td>\n",
       "      <td>0.309575</td>\n",
       "      <td>0.050803</td>\n",
       "      <td>0.497222</td>\n",
       "    </tr>\n",
       "    <tr>\n",
       "      <th>4</th>\n",
       "      <td>6</td>\n",
       "      <td>post</td>\n",
       "      <td>-0.051549</td>\n",
       "      <td>0.638693</td>\n",
       "      <td>0.050737</td>\n",
       "      <td>0.766667</td>\n",
       "    </tr>\n",
       "    <tr>\n",
       "      <th>5</th>\n",
       "      <td>6</td>\n",
       "      <td>intra</td>\n",
       "      <td>-0.056889</td>\n",
       "      <td>0.462550</td>\n",
       "      <td>0.048875</td>\n",
       "      <td>0.544444</td>\n",
       "    </tr>\n",
       "    <tr>\n",
       "      <th>6</th>\n",
       "      <td>12</td>\n",
       "      <td>pre</td>\n",
       "      <td>-0.082124</td>\n",
       "      <td>0.299813</td>\n",
       "      <td>0.074567</td>\n",
       "      <td>0.397222</td>\n",
       "    </tr>\n",
       "    <tr>\n",
       "      <th>7</th>\n",
       "      <td>12</td>\n",
       "      <td>post</td>\n",
       "      <td>-0.076466</td>\n",
       "      <td>0.641044</td>\n",
       "      <td>0.071461</td>\n",
       "      <td>0.772222</td>\n",
       "    </tr>\n",
       "    <tr>\n",
       "      <th>8</th>\n",
       "      <td>12</td>\n",
       "      <td>intra</td>\n",
       "      <td>-0.080838</td>\n",
       "      <td>0.449269</td>\n",
       "      <td>0.071183</td>\n",
       "      <td>0.633333</td>\n",
       "    </tr>\n",
       "    <tr>\n",
       "      <th>9</th>\n",
       "      <td>24</td>\n",
       "      <td>pre</td>\n",
       "      <td>-0.153549</td>\n",
       "      <td>0.282225</td>\n",
       "      <td>0.185944</td>\n",
       "      <td>0.602778</td>\n",
       "    </tr>\n",
       "    <tr>\n",
       "      <th>10</th>\n",
       "      <td>24</td>\n",
       "      <td>post</td>\n",
       "      <td>-0.138532</td>\n",
       "      <td>0.641504</td>\n",
       "      <td>0.160124</td>\n",
       "      <td>0.744444</td>\n",
       "    </tr>\n",
       "    <tr>\n",
       "      <th>11</th>\n",
       "      <td>24</td>\n",
       "      <td>intra</td>\n",
       "      <td>-0.150955</td>\n",
       "      <td>0.455227</td>\n",
       "      <td>0.186758</td>\n",
       "      <td>0.644444</td>\n",
       "    </tr>\n",
       "  </tbody>\n",
       "</table>\n",
       "</div>"
      ],
      "text/plain": [
       "    time  stage  brier_eval_score  c-index eval  brier_test_score  \\\n",
       "0      3    pre         -0.037140      0.320967          0.023941   \n",
       "1      3   post         -0.035223      0.649546          0.023508   \n",
       "2      3  intra         -0.036438      0.416043          0.023267   \n",
       "3      6    pre         -0.057029      0.309575          0.050803   \n",
       "4      6   post         -0.051549      0.638693          0.050737   \n",
       "5      6  intra         -0.056889      0.462550          0.048875   \n",
       "6     12    pre         -0.082124      0.299813          0.074567   \n",
       "7     12   post         -0.076466      0.641044          0.071461   \n",
       "8     12  intra         -0.080838      0.449269          0.071183   \n",
       "9     24    pre         -0.153549      0.282225          0.185944   \n",
       "10    24   post         -0.138532      0.641504          0.160124   \n",
       "11    24  intra         -0.150955      0.455227          0.186758   \n",
       "\n",
       "    c-index_test_score  \n",
       "0             0.463889  \n",
       "1             0.733333  \n",
       "2             0.644444  \n",
       "3             0.497222  \n",
       "4             0.766667  \n",
       "5             0.544444  \n",
       "6             0.397222  \n",
       "7             0.772222  \n",
       "8             0.633333  \n",
       "9             0.602778  \n",
       "10            0.744444  \n",
       "11            0.644444  "
      ]
     },
     "execution_count": 22,
     "metadata": {},
     "output_type": "execute_result"
    }
   ],
   "source": [
    "rsf_results = pd.DataFrame(rsf_tests)\n",
    "rsf_results"
   ]
  },
  {
   "cell_type": "code",
   "execution_count": 23,
   "metadata": {},
   "outputs": [
    {
     "data": {
      "text/html": [
       "<div>\n",
       "<style scoped>\n",
       "    .dataframe tbody tr th:only-of-type {\n",
       "        vertical-align: middle;\n",
       "    }\n",
       "\n",
       "    .dataframe tbody tr th {\n",
       "        vertical-align: top;\n",
       "    }\n",
       "\n",
       "    .dataframe thead th {\n",
       "        text-align: right;\n",
       "    }\n",
       "</style>\n",
       "<table border=\"1\" class=\"dataframe\">\n",
       "  <thead>\n",
       "    <tr style=\"text-align: right;\">\n",
       "      <th></th>\n",
       "      <th>time</th>\n",
       "      <th>stage</th>\n",
       "      <th>brier_eval_score</th>\n",
       "      <th>c-index eval</th>\n",
       "      <th>brier_test_score</th>\n",
       "      <th>c-index_test_score</th>\n",
       "    </tr>\n",
       "  </thead>\n",
       "  <tbody>\n",
       "    <tr>\n",
       "      <th>0</th>\n",
       "      <td>3</td>\n",
       "      <td>pre</td>\n",
       "      <td>-0.036844</td>\n",
       "      <td>0.393043</td>\n",
       "      <td>0.023601</td>\n",
       "      <td>0.661111</td>\n",
       "    </tr>\n",
       "    <tr>\n",
       "      <th>1</th>\n",
       "      <td>3</td>\n",
       "      <td>post</td>\n",
       "      <td>-0.045232</td>\n",
       "      <td>0.583114</td>\n",
       "      <td>0.025432</td>\n",
       "      <td>0.622222</td>\n",
       "    </tr>\n",
       "    <tr>\n",
       "      <th>2</th>\n",
       "      <td>3</td>\n",
       "      <td>intra</td>\n",
       "      <td>-0.045032</td>\n",
       "      <td>0.436795</td>\n",
       "      <td>0.023683</td>\n",
       "      <td>0.622222</td>\n",
       "    </tr>\n",
       "    <tr>\n",
       "      <th>3</th>\n",
       "      <td>6</td>\n",
       "      <td>pre</td>\n",
       "      <td>-0.055549</td>\n",
       "      <td>0.393043</td>\n",
       "      <td>0.049770</td>\n",
       "      <td>0.661111</td>\n",
       "    </tr>\n",
       "    <tr>\n",
       "      <th>4</th>\n",
       "      <td>6</td>\n",
       "      <td>post</td>\n",
       "      <td>-0.059889</td>\n",
       "      <td>0.583114</td>\n",
       "      <td>0.058880</td>\n",
       "      <td>0.622222</td>\n",
       "    </tr>\n",
       "    <tr>\n",
       "      <th>5</th>\n",
       "      <td>6</td>\n",
       "      <td>intra</td>\n",
       "      <td>-0.068113</td>\n",
       "      <td>0.436795</td>\n",
       "      <td>0.051577</td>\n",
       "      <td>0.622222</td>\n",
       "    </tr>\n",
       "    <tr>\n",
       "      <th>6</th>\n",
       "      <td>12</td>\n",
       "      <td>pre</td>\n",
       "      <td>-0.081127</td>\n",
       "      <td>0.393043</td>\n",
       "      <td>0.074752</td>\n",
       "      <td>0.661111</td>\n",
       "    </tr>\n",
       "    <tr>\n",
       "      <th>7</th>\n",
       "      <td>12</td>\n",
       "      <td>post</td>\n",
       "      <td>-0.366395</td>\n",
       "      <td>0.583114</td>\n",
       "      <td>0.104185</td>\n",
       "      <td>0.622222</td>\n",
       "    </tr>\n",
       "    <tr>\n",
       "      <th>8</th>\n",
       "      <td>12</td>\n",
       "      <td>intra</td>\n",
       "      <td>-0.095944</td>\n",
       "      <td>0.436795</td>\n",
       "      <td>0.080972</td>\n",
       "      <td>0.622222</td>\n",
       "    </tr>\n",
       "    <tr>\n",
       "      <th>9</th>\n",
       "      <td>24</td>\n",
       "      <td>pre</td>\n",
       "      <td>-0.153633</td>\n",
       "      <td>0.393043</td>\n",
       "      <td>0.180220</td>\n",
       "      <td>0.661111</td>\n",
       "    </tr>\n",
       "    <tr>\n",
       "      <th>10</th>\n",
       "      <td>24</td>\n",
       "      <td>post</td>\n",
       "      <td>-0.418796</td>\n",
       "      <td>0.583114</td>\n",
       "      <td>0.210952</td>\n",
       "      <td>0.622222</td>\n",
       "    </tr>\n",
       "    <tr>\n",
       "      <th>11</th>\n",
       "      <td>24</td>\n",
       "      <td>intra</td>\n",
       "      <td>-0.173907</td>\n",
       "      <td>0.436795</td>\n",
       "      <td>0.194424</td>\n",
       "      <td>0.622222</td>\n",
       "    </tr>\n",
       "  </tbody>\n",
       "</table>\n",
       "</div>"
      ],
      "text/plain": [
       "    time  stage  brier_eval_score  c-index eval  brier_test_score  \\\n",
       "0      3    pre         -0.036844      0.393043          0.023601   \n",
       "1      3   post         -0.045232      0.583114          0.025432   \n",
       "2      3  intra         -0.045032      0.436795          0.023683   \n",
       "3      6    pre         -0.055549      0.393043          0.049770   \n",
       "4      6   post         -0.059889      0.583114          0.058880   \n",
       "5      6  intra         -0.068113      0.436795          0.051577   \n",
       "6     12    pre         -0.081127      0.393043          0.074752   \n",
       "7     12   post         -0.366395      0.583114          0.104185   \n",
       "8     12  intra         -0.095944      0.436795          0.080972   \n",
       "9     24    pre         -0.153633      0.393043          0.180220   \n",
       "10    24   post         -0.418796      0.583114          0.210952   \n",
       "11    24  intra         -0.173907      0.436795          0.194424   \n",
       "\n",
       "    c-index_test_score  \n",
       "0             0.661111  \n",
       "1             0.622222  \n",
       "2             0.622222  \n",
       "3             0.661111  \n",
       "4             0.622222  \n",
       "5             0.622222  \n",
       "6             0.661111  \n",
       "7             0.622222  \n",
       "8             0.622222  \n",
       "9             0.661111  \n",
       "10            0.622222  \n",
       "11            0.622222  "
      ]
     },
     "execution_count": 23,
     "metadata": {},
     "output_type": "execute_result"
    }
   ],
   "source": [
    "baseline_results = pd.DataFrame(cox_tests)\n",
    "baseline_results"
   ]
  },
  {
   "cell_type": "markdown",
   "metadata": {},
   "source": [
    "Plots plots plots"
   ]
  },
  {
   "cell_type": "code",
   "execution_count": null,
   "metadata": {},
   "outputs": [],
   "source": [
    "import matplotlib.pyplot as plt"
   ]
  },
  {
   "cell_type": "code",
   "execution_count": 45,
   "metadata": {},
   "outputs": [
    {
     "data": {
      "text/plain": [
       "<matplotlib.legend.Legend at 0x7fc018874dc0>"
      ]
     },
     "execution_count": 45,
     "metadata": {},
     "output_type": "execute_result"
    },
    {
     "data": {
      "image/png": "[encoded data removed]",
      "text/plain": [
       "<Figure size 432x288 with 1 Axes>"
      ]
     },
     "metadata": {
      "needs_background": "light"
     },
     "output_type": "display_data"
    }
   ],
   "source": [
    "plt.plot([3,6,12,24],rsf_results[rsf_results['stage'] == 'post']['brier_test_score'],label='rsf')\n",
    "plt.plot([3,6,12,24],baseline_results[baseline_results['stage'] == 'post']['brier_test_score'],label='cox-ph')\n",
    "plt.plot([3,6,12,24],gbm_results[gbm_results['stage'] == 'post']['brier_test_score'],label='gbm')\n",
    "plt.title('Brier Score of models that were fitted on specific times')\n",
    "plt.legend()"
   ]
  },
  {
   "cell_type": "markdown",
   "metadata": {},
   "source": [
    "We can see that ML models dominate Cox-PH by far."
   ]
  },
  {
   "cell_type": "code",
   "execution_count": 46,
   "metadata": {},
   "outputs": [
    {
     "data": {
      "text/plain": [
       "<matplotlib.legend.Legend at 0x7fc01ae03730>"
      ]
     },
     "execution_count": 46,
     "metadata": {},
     "output_type": "execute_result"
    },
    {
     "data": {
      "image/png": "[encoded data removed]",
      "text/plain": [
       "<Figure size 432x288 with 1 Axes>"
      ]
     },
     "metadata": {
      "needs_background": "light"
     },
     "output_type": "display_data"
    }
   ],
   "source": [
    "plt.plot([3,6,12,24],rsf_results[rsf_results['stage'] == 'post']['c-index_test_score'],label='rsf')\n",
    "plt.plot([3,6,12,24],baseline_results[baseline_results['stage'] == 'post']['c-index_test_score'],label='cox-ph')\n",
    "plt.plot([3,6,12,24],gbm_results[gbm_results['stage'] == 'post']['c-index_test_score'],label='gbm')\n",
    "plt.title('Concordance Score of models that were fitted on specific times')\n",
    "plt.legend()"
   ]
  },
  {
   "cell_type": "markdown",
   "metadata": {},
   "source": [
    "## A Model for each time"
   ]
  },
  {
   "cell_type": "markdown",
   "metadata": {},
   "source": [
    "We've disscussed how creating a different model for each time of interest should be beneficial. \n",
    "We can approach this goal in two ways:\n",
    "1) Searching for hyperparameters for each times\n",
    "2) Searching for hyperparameters AND different features for each time\n",
    "\n",
    "we will focus on Random Survival Forest as it gives consistent better results.\n",
    "This is going to be computationally expensive, lets go. "
   ]
  },
  {
   "cell_type": "markdown",
   "metadata": {},
   "source": [
    "### Hyperparameters search"
   ]
  },
  {
   "cell_type": "code",
   "execution_count": 73,
   "metadata": {},
   "outputs": [],
   "source": [
    "rsf_model = RandomSurvivalForest()\n",
    "rsf_hyperparameters_tests = []\n",
    "rsf_tuned_models = {}\n",
    "best_overall_features = ['weight', 'height', 'obesity', 'Liver involvment', 'RUQ', 'Epigastric', 'LUQ', 'LLQ', 'Low Jej', 'PCI', 'SPS', 'or_time', 'icu_stay_days', 'hospital_stay_days', 'reoperation', 'Patho % ', 'n specimens inv', 'N', 'scar_involvement', '5FU+ Leucovorin']\n",
    "for time in [3,6,12,24]:\n",
    "    for stage in ['pre','post','intra']:\n",
    "\n",
    "        stage_df = get_df_for_stage(stage,return_all_features = True, keep_only_aggs = True)\n",
    "        X_train_validation, X_test, y_train_validation, y_test = impute_nan_values_and_split_to_train_test(stage_df,seed = 0)\n",
    "        \n",
    "        \n",
    "        \n",
    "        X_train_validation = filter_df_columns_from_list(X_train_validation,best_features)\n",
    "        X_test = filter_df_columns_from_list(X_test,best_features)\n",
    "        \n",
    "        rsf_scorer = as_integrated_brier_score_scorer(rsf_model,times=[time,time+0.001])\n",
    "        \n",
    "        cv = StratifiedKFold(n_splits=3,shuffle=True,random_state=0)\n",
    "        splitter = cv.split(X_train_validation,y_train_validation['death'])\n",
    "        \n",
    "        # for debug\n",
    "        # params_to_search = {'estimator__n_estimators':[100],'estimator__min_samples_leaf':[3],'estimator__min_samples_split':[5]}\n",
    "\n",
    "        params_to_search = {'estimator__n_estimators':[100,250,500,1000],'estimator__min_samples_leaf':[3,5,10,20,30],'estimator__min_samples_split':[5,10,15,20]}\n",
    "        grid_search = GridSearchCV(estimator=rsf_scorer,param_grid=params_to_search,n_jobs=-1,cv = splitter).fit(X_train_validation,y_train_validation)\n",
    "\n",
    "        rsf_eval_brier_score = grid_search.best_score_\n",
    "        rsf_test_brier_score = grid_search.best_estimator_.score(X_test,y_test)\n",
    "\n",
    "        for key in grid_search.best_params_.keys():\n",
    "            grid_search.best_params_[key[len('estimator__'):]] = grid_search.best_params_.pop(key)\n",
    "\n",
    "        c_index_rsf_model = RandomSurvivalForest(**grid_search.best_params_)\n",
    "        c_index_rsf_model.fit(X_train_validation,y_train_validation)\n",
    "        rsf_test_c1_score = c_index_rsf_model.score(X_test,y_test)\n",
    "        \n",
    "        rsf_hyperparameters_tests.append({'time':time,'stage':stage,'brier_eval_score':rsf_eval_brier_score,'brier_test_score':rsf_test_brier_score,'c-index_test_score':rsf_test_c1_score})\n",
    "        rsf_tuned_models.update({f'{time}_{stage}':grid_search.best_estimator_})\n",
    "        "
   ]
  },
  {
   "cell_type": "code",
   "execution_count": 35,
   "metadata": {},
   "outputs": [
    {
     "data": {
      "text/html": [
       "<div>\n",
       "<style scoped>\n",
       "    .dataframe tbody tr th:only-of-type {\n",
       "        vertical-align: middle;\n",
       "    }\n",
       "\n",
       "    .dataframe tbody tr th {\n",
       "        vertical-align: top;\n",
       "    }\n",
       "\n",
       "    .dataframe thead th {\n",
       "        text-align: right;\n",
       "    }\n",
       "</style>\n",
       "<table border=\"1\" class=\"dataframe\">\n",
       "  <thead>\n",
       "    <tr style=\"text-align: right;\">\n",
       "      <th></th>\n",
       "      <th>time</th>\n",
       "      <th>stage</th>\n",
       "      <th>brier_eval_score</th>\n",
       "      <th>brier_test_score</th>\n",
       "      <th>c-index_test_score</th>\n",
       "    </tr>\n",
       "  </thead>\n",
       "  <tbody>\n",
       "    <tr>\n",
       "      <th>0</th>\n",
       "      <td>3</td>\n",
       "      <td>pre</td>\n",
       "      <td>-0.036258</td>\n",
       "      <td>-0.023667</td>\n",
       "      <td>0.513889</td>\n",
       "    </tr>\n",
       "    <tr>\n",
       "      <th>1</th>\n",
       "      <td>3</td>\n",
       "      <td>post</td>\n",
       "      <td>-0.034242</td>\n",
       "      <td>-0.024018</td>\n",
       "      <td>0.755556</td>\n",
       "    </tr>\n",
       "    <tr>\n",
       "      <th>2</th>\n",
       "      <td>3</td>\n",
       "      <td>intra</td>\n",
       "      <td>-0.035885</td>\n",
       "      <td>-0.022953</td>\n",
       "      <td>0.688889</td>\n",
       "    </tr>\n",
       "    <tr>\n",
       "      <th>3</th>\n",
       "      <td>6</td>\n",
       "      <td>pre</td>\n",
       "      <td>-0.055175</td>\n",
       "      <td>-0.050380</td>\n",
       "      <td>0.438889</td>\n",
       "    </tr>\n",
       "    <tr>\n",
       "      <th>4</th>\n",
       "      <td>6</td>\n",
       "      <td>post</td>\n",
       "      <td>-0.050841</td>\n",
       "      <td>-0.052124</td>\n",
       "      <td>0.772222</td>\n",
       "    </tr>\n",
       "    <tr>\n",
       "      <th>5</th>\n",
       "      <td>6</td>\n",
       "      <td>intra</td>\n",
       "      <td>-0.054685</td>\n",
       "      <td>-0.048958</td>\n",
       "      <td>0.655556</td>\n",
       "    </tr>\n",
       "    <tr>\n",
       "      <th>6</th>\n",
       "      <td>12</td>\n",
       "      <td>pre</td>\n",
       "      <td>-0.078734</td>\n",
       "      <td>-0.074763</td>\n",
       "      <td>0.444444</td>\n",
       "    </tr>\n",
       "    <tr>\n",
       "      <th>7</th>\n",
       "      <td>12</td>\n",
       "      <td>post</td>\n",
       "      <td>-0.075821</td>\n",
       "      <td>-0.070229</td>\n",
       "      <td>0.783333</td>\n",
       "    </tr>\n",
       "    <tr>\n",
       "      <th>8</th>\n",
       "      <td>12</td>\n",
       "      <td>intra</td>\n",
       "      <td>-0.078502</td>\n",
       "      <td>-0.072435</td>\n",
       "      <td>0.705556</td>\n",
       "    </tr>\n",
       "    <tr>\n",
       "      <th>9</th>\n",
       "      <td>24</td>\n",
       "      <td>pre</td>\n",
       "      <td>-0.148519</td>\n",
       "      <td>-0.183427</td>\n",
       "      <td>0.500000</td>\n",
       "    </tr>\n",
       "    <tr>\n",
       "      <th>10</th>\n",
       "      <td>24</td>\n",
       "      <td>post</td>\n",
       "      <td>-0.136131</td>\n",
       "      <td>-0.164941</td>\n",
       "      <td>0.761111</td>\n",
       "    </tr>\n",
       "    <tr>\n",
       "      <th>11</th>\n",
       "      <td>24</td>\n",
       "      <td>intra</td>\n",
       "      <td>-0.144203</td>\n",
       "      <td>-0.186165</td>\n",
       "      <td>0.594444</td>\n",
       "    </tr>\n",
       "  </tbody>\n",
       "</table>\n",
       "</div>"
      ],
      "text/plain": [
       "    time  stage  brier_eval_score  brier_test_score  c-index_test_score\n",
       "0      3    pre         -0.036258         -0.023667            0.513889\n",
       "1      3   post         -0.034242         -0.024018            0.755556\n",
       "2      3  intra         -0.035885         -0.022953            0.688889\n",
       "3      6    pre         -0.055175         -0.050380            0.438889\n",
       "4      6   post         -0.050841         -0.052124            0.772222\n",
       "5      6  intra         -0.054685         -0.048958            0.655556\n",
       "6     12    pre         -0.078734         -0.074763            0.444444\n",
       "7     12   post         -0.075821         -0.070229            0.783333\n",
       "8     12  intra         -0.078502         -0.072435            0.705556\n",
       "9     24    pre         -0.148519         -0.183427            0.500000\n",
       "10    24   post         -0.136131         -0.164941            0.761111\n",
       "11    24  intra         -0.144203         -0.186165            0.594444"
      ]
     },
     "execution_count": 35,
     "metadata": {},
     "output_type": "execute_result"
    }
   ],
   "source": [
    "rsf_hyperparams_tests = pd.DataFrame(rsf_hyperparameters_tests)\n",
    "rsf_hyperparams_tests"
   ]
  },
  {
   "cell_type": "markdown",
   "metadata": {},
   "source": [
    "### HyperParameters + features search"
   ]
  },
  {
   "cell_type": "code",
   "execution_count": 36,
   "metadata": {
    "collapsed": true,
    "jupyter": {
     "outputs_hidden": true
    },
    "tags": []
   },
   "outputs": [
    {
     "name": "stdout",
     "output_type": "stream",
     "text": [
      "stage pre, time: 3\n",
      "stage post, time: 3\n",
      "len of current features: 66\n",
      "len of current features: 65\n",
      "len of current features: 64\n",
      "len of current features: 63\n",
      "len of current features: 62\n",
      "len of current features: 61\n",
      "len of current features: 60\n",
      "len of current features: 59\n",
      "len of current features: 58\n",
      "len of current features: 57\n",
      "len of current features: 56\n",
      "len of current features: 55\n",
      "len of current features: 54\n",
      "len of current features: 53\n",
      "len of current features: 52\n",
      "len of current features: 51\n",
      "len of current features: 50\n",
      "len of current features: 49\n",
      "len of current features: 48\n",
      "len of current features: 47\n",
      "len of current features: 46\n",
      "len of current features: 45\n",
      "len of current features: 44\n",
      "len of current features: 43\n",
      "len of current features: 42\n",
      "len of current features: 41\n",
      "len of current features: 40\n",
      "len of current features: 39\n",
      "len of current features: 38\n",
      "len of current features: 37\n",
      "len of current features: 36\n",
      "len of current features: 35\n",
      "len of current features: 34\n",
      "len of current features: 33\n",
      "len of current features: 32\n",
      "len of current features: 31\n",
      "len of current features: 30\n",
      "len of current features: 29\n",
      "len of current features: 28\n",
      "len of current features: 27\n",
      "len of current features: 26\n",
      "len of current features: 25\n",
      "len of current features: 24\n",
      "len of current features: 23\n",
      "len of current features: 22\n",
      "len of current features: 21\n",
      "stage intra, time: 3\n",
      "len of current features: 43\n",
      "len of current features: 42\n",
      "len of current features: 41\n",
      "len of current features: 40\n",
      "len of current features: 39\n",
      "len of current features: 38\n",
      "len of current features: 37\n",
      "len of current features: 36\n",
      "len of current features: 35\n",
      "len of current features: 34\n",
      "len of current features: 33\n",
      "len of current features: 32\n",
      "len of current features: 31\n",
      "len of current features: 30\n",
      "len of current features: 29\n",
      "len of current features: 28\n",
      "len of current features: 27\n",
      "len of current features: 26\n",
      "len of current features: 25\n",
      "len of current features: 24\n",
      "len of current features: 23\n",
      "len of current features: 22\n",
      "len of current features: 21\n",
      "stage pre, time: 6\n",
      "stage post, time: 6\n",
      "len of current features: 66\n",
      "len of current features: 65\n",
      "len of current features: 64\n",
      "len of current features: 63\n",
      "len of current features: 62\n",
      "len of current features: 61\n",
      "len of current features: 60\n",
      "len of current features: 59\n",
      "len of current features: 58\n",
      "len of current features: 57\n",
      "len of current features: 56\n",
      "len of current features: 55\n",
      "len of current features: 54\n",
      "len of current features: 53\n",
      "len of current features: 52\n",
      "len of current features: 51\n",
      "len of current features: 50\n",
      "len of current features: 49\n",
      "len of current features: 48\n",
      "len of current features: 47\n",
      "len of current features: 46\n",
      "len of current features: 45\n",
      "len of current features: 44\n",
      "len of current features: 43\n",
      "len of current features: 42\n",
      "len of current features: 41\n",
      "len of current features: 40\n",
      "len of current features: 39\n",
      "len of current features: 38\n",
      "len of current features: 37\n",
      "len of current features: 36\n",
      "len of current features: 35\n",
      "len of current features: 34\n",
      "len of current features: 33\n",
      "len of current features: 32\n",
      "len of current features: 31\n",
      "len of current features: 30\n",
      "len of current features: 29\n",
      "len of current features: 28\n",
      "len of current features: 27\n",
      "len of current features: 26\n",
      "len of current features: 25\n",
      "len of current features: 24\n",
      "len of current features: 23\n",
      "len of current features: 22\n",
      "len of current features: 21\n",
      "stage intra, time: 6\n",
      "len of current features: 43\n",
      "len of current features: 42\n",
      "len of current features: 41\n",
      "len of current features: 40\n",
      "len of current features: 39\n",
      "len of current features: 38\n",
      "len of current features: 37\n",
      "len of current features: 36\n",
      "len of current features: 35\n",
      "len of current features: 34\n",
      "len of current features: 33\n",
      "len of current features: 32\n",
      "len of current features: 31\n",
      "len of current features: 30\n",
      "len of current features: 29\n",
      "len of current features: 28\n",
      "len of current features: 27\n",
      "len of current features: 26\n",
      "len of current features: 25\n",
      "len of current features: 24\n",
      "len of current features: 23\n",
      "len of current features: 22\n",
      "len of current features: 21\n",
      "stage pre, time: 12\n",
      "stage post, time: 12\n",
      "len of current features: 66\n",
      "len of current features: 65\n",
      "len of current features: 64\n",
      "len of current features: 63\n",
      "len of current features: 62\n",
      "len of current features: 61\n",
      "len of current features: 60\n",
      "len of current features: 59\n",
      "len of current features: 58\n",
      "len of current features: 57\n",
      "len of current features: 56\n",
      "len of current features: 55\n",
      "len of current features: 54\n",
      "len of current features: 53\n",
      "len of current features: 52\n",
      "len of current features: 51\n",
      "len of current features: 50\n",
      "len of current features: 49\n",
      "len of current features: 48\n",
      "len of current features: 47\n",
      "len of current features: 46\n",
      "len of current features: 45\n",
      "len of current features: 44\n",
      "len of current features: 43\n",
      "len of current features: 42\n",
      "len of current features: 41\n",
      "len of current features: 40\n",
      "len of current features: 39\n",
      "len of current features: 38\n",
      "len of current features: 37\n",
      "len of current features: 36\n",
      "len of current features: 35\n",
      "len of current features: 34\n",
      "len of current features: 33\n",
      "len of current features: 32\n",
      "len of current features: 31\n",
      "len of current features: 30\n",
      "len of current features: 29\n",
      "len of current features: 28\n",
      "len of current features: 27\n",
      "len of current features: 26\n",
      "len of current features: 25\n",
      "len of current features: 24\n",
      "len of current features: 23\n",
      "len of current features: 22\n",
      "len of current features: 21\n",
      "stage intra, time: 12\n",
      "len of current features: 43\n",
      "len of current features: 42\n",
      "len of current features: 41\n",
      "len of current features: 40\n",
      "len of current features: 39\n",
      "len of current features: 38\n",
      "len of current features: 37\n",
      "len of current features: 36\n",
      "len of current features: 35\n",
      "len of current features: 34\n",
      "len of current features: 33\n",
      "len of current features: 32\n",
      "len of current features: 31\n",
      "len of current features: 30\n",
      "len of current features: 29\n",
      "len of current features: 28\n",
      "len of current features: 27\n",
      "len of current features: 26\n",
      "len of current features: 25\n",
      "len of current features: 24\n",
      "len of current features: 23\n",
      "len of current features: 22\n",
      "len of current features: 21\n",
      "stage pre, time: 24\n",
      "stage post, time: 24\n",
      "len of current features: 66\n",
      "len of current features: 65\n",
      "len of current features: 64\n",
      "len of current features: 63\n",
      "len of current features: 62\n",
      "len of current features: 61\n",
      "len of current features: 60\n",
      "len of current features: 59\n",
      "len of current features: 58\n",
      "len of current features: 57\n",
      "len of current features: 56\n",
      "len of current features: 55\n",
      "len of current features: 54\n",
      "len of current features: 53\n",
      "len of current features: 52\n",
      "len of current features: 51\n",
      "len of current features: 50\n",
      "len of current features: 49\n",
      "len of current features: 48\n",
      "len of current features: 47\n",
      "len of current features: 46\n",
      "len of current features: 45\n",
      "len of current features: 44\n",
      "len of current features: 43\n",
      "len of current features: 42\n",
      "len of current features: 41\n",
      "len of current features: 40\n",
      "len of current features: 39\n",
      "len of current features: 38\n",
      "len of current features: 37\n",
      "len of current features: 36\n",
      "len of current features: 35\n",
      "len of current features: 34\n",
      "len of current features: 33\n",
      "len of current features: 32\n",
      "len of current features: 31\n",
      "len of current features: 30\n",
      "len of current features: 29\n",
      "len of current features: 28\n",
      "len of current features: 27\n",
      "len of current features: 26\n",
      "len of current features: 25\n",
      "len of current features: 24\n",
      "len of current features: 23\n",
      "len of current features: 22\n",
      "len of current features: 21\n",
      "stage intra, time: 24\n",
      "len of current features: 43\n",
      "len of current features: 42\n",
      "len of current features: 41\n",
      "len of current features: 40\n",
      "len of current features: 39\n",
      "len of current features: 38\n",
      "len of current features: 37\n",
      "len of current features: 36\n",
      "len of current features: 35\n",
      "len of current features: 34\n",
      "len of current features: 33\n",
      "len of current features: 32\n",
      "len of current features: 31\n",
      "len of current features: 30\n",
      "len of current features: 29\n",
      "len of current features: 28\n",
      "len of current features: 27\n",
      "len of current features: 26\n",
      "len of current features: 25\n",
      "len of current features: 24\n",
      "len of current features: 23\n",
      "len of current features: 22\n",
      "len of current features: 21\n"
     ]
    }
   ],
   "source": [
    "rsf_model = RandomSurvivalForest(n_estimators=100,min_samples_leaf=20,min_samples_split=30)\n",
    "rsf_hyperparameters_and_features_tests = []\n",
    "\n",
    "cox_check = CoxPHSurvivalAnalysis(alpha=0.0001)\n",
    "cox_hyperparams_and_feature_tests = []\n",
    "for time in [3,6,12,24]:\n",
    "    for stage in ['pre','post','intra']:\n",
    "        print(f'stage {stage}, time: {time}')\n",
    "        stage_df = get_df_for_stage(stage,return_all_features = True, keep_only_aggs = True)\n",
    "        X_train_validation, X_test, y_train_validation, y_test = impute_nan_values_and_split_to_train_test(stage_df,seed = 0)\n",
    "        best_features = get_features_using_rfe(X_train_validation, y_train_validation, model=rsf_model, times=[time,time+0.001],\n",
    "                                       n_features_to_keep=20)\n",
    "        X_train_validation = filter_df_columns_from_list(X_train_validation,best_features)\n",
    "        \n",
    "        \n",
    "        \n",
    "        X_test = filter_df_columns_from_list(X_test,best_features)\n",
    "        \n",
    "        rsf_scorer = as_integrated_brier_score_scorer(rsf_model,times=[time,time+0.001])\n",
    "        \n",
    "        cv = StratifiedKFold(n_splits=3,shuffle=True,random_state=0)\n",
    "        splitter = cv.split(X_train_validation,y_train_validation['death'])\n",
    "        \n",
    "        # for debug\n",
    "        # params_to_search = {'estimator__n_estimators':[100],'estimator__min_samples_leaf':[3],'estimator__min_samples_split':[5]}\n",
    "\n",
    "        params_to_search = {'estimator__n_estimators':[100,250,500,1000],'estimator__min_samples_leaf':[3,5,10,20,30],'estimator__min_samples_split':[5,10,15,20]}\n",
    "        grid_search = GridSearchCV(estimator=rsf_scorer,param_grid=params_to_search,n_jobs=-1,cv = splitter).fit(X_train_validation,y_train_validation)\n",
    "\n",
    "        rsf_eval_brier_score = grid_search.best_score_\n",
    "        rsf_test_brier_score = grid_search.best_estimator_.score(X_test,y_test)\n",
    "\n",
    "        for key in grid_search.best_params_.keys():\n",
    "            grid_search.best_params_[key[len('estimator__'):]] = grid_search.best_params_.pop(key)\n",
    "\n",
    "        c_index_rsf_model = RandomSurvivalForest(**grid_search.best_params_)\n",
    "        c_index_rsf_model.fit(X_train_validation,y_train_validation)\n",
    "        rsf_test_c1_score = c_index_rsf_model.score(X_test,y_test)\n",
    "        \n",
    "        rsf_hyperparameters_and_features_tests.append({'time':time,'stage':stage,'brier_eval_score':rsf_eval_brier_score,'brier_test_score':rsf_test_brier_score,\n",
    "                                                       'c-index_test_score':rsf_test_c1_score,'features_used':best_features})\n",
    "        rsf_model = c_index_rsf_model\n",
    "        "
   ]
  },
  {
   "cell_type": "code",
   "execution_count": 37,
   "metadata": {},
   "outputs": [
    {
     "data": {
      "text/html": [
       "<div>\n",
       "<style scoped>\n",
       "    .dataframe tbody tr th:only-of-type {\n",
       "        vertical-align: middle;\n",
       "    }\n",
       "\n",
       "    .dataframe tbody tr th {\n",
       "        vertical-align: top;\n",
       "    }\n",
       "\n",
       "    .dataframe thead th {\n",
       "        text-align: right;\n",
       "    }\n",
       "</style>\n",
       "<table border=\"1\" class=\"dataframe\">\n",
       "  <thead>\n",
       "    <tr style=\"text-align: right;\">\n",
       "      <th></th>\n",
       "      <th>time</th>\n",
       "      <th>stage</th>\n",
       "      <th>brier_eval_score</th>\n",
       "      <th>brier_test_score</th>\n",
       "      <th>c-index_test_score</th>\n",
       "      <th>features_used</th>\n",
       "    </tr>\n",
       "  </thead>\n",
       "  <tbody>\n",
       "    <tr>\n",
       "      <th>0</th>\n",
       "      <td>3</td>\n",
       "      <td>pre</td>\n",
       "      <td>-0.036069</td>\n",
       "      <td>-0.024097</td>\n",
       "      <td>0.377778</td>\n",
       "      <td>[age, gender, weight, height, BMI, DM, HTN, Re...</td>\n",
       "    </tr>\n",
       "    <tr>\n",
       "      <th>1</th>\n",
       "      <td>3</td>\n",
       "      <td>post</td>\n",
       "      <td>-0.036676</td>\n",
       "      <td>-0.023673</td>\n",
       "      <td>0.711111</td>\n",
       "      <td>[height, BMI, DM, IHD, COPD, Rt (1) Lt (0), Ce...</td>\n",
       "    </tr>\n",
       "    <tr>\n",
       "      <th>2</th>\n",
       "      <td>3</td>\n",
       "      <td>intra</td>\n",
       "      <td>-0.036438</td>\n",
       "      <td>-0.023727</td>\n",
       "      <td>0.705556</td>\n",
       "      <td>[height, BMI, DM, COPD, obesity, Cva, redo_hip...</td>\n",
       "    </tr>\n",
       "    <tr>\n",
       "      <th>3</th>\n",
       "      <td>6</td>\n",
       "      <td>pre</td>\n",
       "      <td>-0.054456</td>\n",
       "      <td>-0.051636</td>\n",
       "      <td>0.361111</td>\n",
       "      <td>[age, gender, weight, height, BMI, DM, HTN, Re...</td>\n",
       "    </tr>\n",
       "    <tr>\n",
       "      <th>4</th>\n",
       "      <td>6</td>\n",
       "      <td>post</td>\n",
       "      <td>-0.051299</td>\n",
       "      <td>-0.053952</td>\n",
       "      <td>0.700000</td>\n",
       "      <td>[height, DM, asa, extra_peritoneal___none, asc...</td>\n",
       "    </tr>\n",
       "    <tr>\n",
       "      <th>5</th>\n",
       "      <td>6</td>\n",
       "      <td>intra</td>\n",
       "      <td>-0.054847</td>\n",
       "      <td>-0.050447</td>\n",
       "      <td>0.622222</td>\n",
       "      <td>[gender, height, DM, HTN, IHD, COPD, obesity, ...</td>\n",
       "    </tr>\n",
       "    <tr>\n",
       "      <th>6</th>\n",
       "      <td>12</td>\n",
       "      <td>pre</td>\n",
       "      <td>-0.078856</td>\n",
       "      <td>-0.078328</td>\n",
       "      <td>0.361111</td>\n",
       "      <td>[age, gender, weight, height, BMI, DM, HTN, Re...</td>\n",
       "    </tr>\n",
       "    <tr>\n",
       "      <th>7</th>\n",
       "      <td>12</td>\n",
       "      <td>post</td>\n",
       "      <td>-0.077755</td>\n",
       "      <td>-0.071639</td>\n",
       "      <td>0.494444</td>\n",
       "      <td>[height, BMI, IHD, obesity, Cva, ascites_drain...</td>\n",
       "    </tr>\n",
       "    <tr>\n",
       "      <th>8</th>\n",
       "      <td>12</td>\n",
       "      <td>intra</td>\n",
       "      <td>-0.078735</td>\n",
       "      <td>-0.073029</td>\n",
       "      <td>0.716667</td>\n",
       "      <td>[height, BMI, Renal, IHD, obesity, Cva, hipec_...</td>\n",
       "    </tr>\n",
       "    <tr>\n",
       "      <th>9</th>\n",
       "      <td>24</td>\n",
       "      <td>pre</td>\n",
       "      <td>-0.148912</td>\n",
       "      <td>-0.184018</td>\n",
       "      <td>0.377778</td>\n",
       "      <td>[age, gender, weight, height, BMI, DM, HTN, Re...</td>\n",
       "    </tr>\n",
       "    <tr>\n",
       "      <th>10</th>\n",
       "      <td>24</td>\n",
       "      <td>post</td>\n",
       "      <td>-0.151214</td>\n",
       "      <td>-0.183510</td>\n",
       "      <td>0.638889</td>\n",
       "      <td>[gender, weight, BMI, HTN, Renal, obesity, Rt ...</td>\n",
       "    </tr>\n",
       "    <tr>\n",
       "      <th>11</th>\n",
       "      <td>24</td>\n",
       "      <td>intra</td>\n",
       "      <td>-0.149639</td>\n",
       "      <td>-0.178836</td>\n",
       "      <td>0.822222</td>\n",
       "      <td>[gender, weight, BMI, DM, HTN, Renal, Tumor_or...</td>\n",
       "    </tr>\n",
       "  </tbody>\n",
       "</table>\n",
       "</div>"
      ],
      "text/plain": [
       "    time  stage  brier_eval_score  brier_test_score  c-index_test_score  \\\n",
       "0      3    pre         -0.036069         -0.024097            0.377778   \n",
       "1      3   post         -0.036676         -0.023673            0.711111   \n",
       "2      3  intra         -0.036438         -0.023727            0.705556   \n",
       "3      6    pre         -0.054456         -0.051636            0.361111   \n",
       "4      6   post         -0.051299         -0.053952            0.700000   \n",
       "5      6  intra         -0.054847         -0.050447            0.622222   \n",
       "6     12    pre         -0.078856         -0.078328            0.361111   \n",
       "7     12   post         -0.077755         -0.071639            0.494444   \n",
       "8     12  intra         -0.078735         -0.073029            0.716667   \n",
       "9     24    pre         -0.148912         -0.184018            0.377778   \n",
       "10    24   post         -0.151214         -0.183510            0.638889   \n",
       "11    24  intra         -0.149639         -0.178836            0.822222   \n",
       "\n",
       "                                        features_used  \n",
       "0   [age, gender, weight, height, BMI, DM, HTN, Re...  \n",
       "1   [height, BMI, DM, IHD, COPD, Rt (1) Lt (0), Ce...  \n",
       "2   [height, BMI, DM, COPD, obesity, Cva, redo_hip...  \n",
       "3   [age, gender, weight, height, BMI, DM, HTN, Re...  \n",
       "4   [height, DM, asa, extra_peritoneal___none, asc...  \n",
       "5   [gender, height, DM, HTN, IHD, COPD, obesity, ...  \n",
       "6   [age, gender, weight, height, BMI, DM, HTN, Re...  \n",
       "7   [height, BMI, IHD, obesity, Cva, ascites_drain...  \n",
       "8   [height, BMI, Renal, IHD, obesity, Cva, hipec_...  \n",
       "9   [age, gender, weight, height, BMI, DM, HTN, Re...  \n",
       "10  [gender, weight, BMI, HTN, Renal, obesity, Rt ...  \n",
       "11  [gender, weight, BMI, DM, HTN, Renal, Tumor_or...  "
      ]
     },
     "execution_count": 37,
     "metadata": {},
     "output_type": "execute_result"
    }
   ],
   "source": [
    "final_df = pd.DataFrame(rsf_hyperparameters_and_features_tests)\n",
    "final_df"
   ]
  },
  {
   "cell_type": "code",
   "execution_count": 87,
   "metadata": {},
   "outputs": [
    {
     "data": {
      "text/plain": [
       "Text(0.5, 1.0, 'Brier Score of single fitted models VS time-specific models')"
      ]
     },
     "execution_count": 87,
     "metadata": {},
     "output_type": "execute_result"
    },
    {
     "data": {
      "image/png": "[encoded data removed]",
      "text/plain": [
       "<Figure size 432x288 with 1 Axes>"
      ]
     },
     "metadata": {
      "needs_background": "light"
     },
     "output_type": "display_data"
    }
   ],
   "source": [
    "\n",
    "plt.plot([3,6,12,24],rsf_results[rsf_results['stage'] == 'post']['brier_test_score'],label='rsf')\n",
    "plt.plot([3,6,12,24],baseline_results[baseline_results['stage'] == 'post']['brier_test_score'],label='cox')\n",
    "plt.plot([3,6,12,24],np.abs(final_df[final_df['stage'] == 'post']['brier_test_score']),label = 'time-specific rsf')\n",
    "plt.plot([3,6,12,24],np.abs(rsf_hyperparams_tests[rsf_hyperparams_tests['stage'] == 'post']['brier_test_score']),label = 'hyper-parameter-search rsf')\n",
    "plt.legend()\n",
    "plt.title('Brier Score of single fitted models VS time-specific models')"
   ]
  },
  {
   "cell_type": "code",
   "execution_count": 86,
   "metadata": {},
   "outputs": [
    {
     "data": {
      "text/plain": [
       "Text(0.5, 1.0, 'Concordance Score of single fitted models VS time-specific models')"
      ]
     },
     "execution_count": 86,
     "metadata": {},
     "output_type": "execute_result"
    },
    {
     "data": {
      "image/png": "[encoded data removed]",
      "text/plain": [
       "<Figure size 432x288 with 1 Axes>"
      ]
     },
     "metadata": {
      "needs_background": "light"
     },
     "output_type": "display_data"
    }
   ],
   "source": [
    "plt.plot([3,6,12,24],rsf_results[rsf_results['stage'] == 'post']['c-index_test_score'],label='rsf')\n",
    "plt.plot([3,6,12,24],baseline_results[baseline_results['stage'] == 'post']['c-index_test_score'],label='cox')\n",
    "plt.plot([3,6,12,24],np.abs(final_df[final_df['stage'] == 'post']['c-index_test_score']),label = 'time-specific rsf')\n",
    "plt.plot([3,6,12,24],np.abs(rsf_hyperparams_tests[rsf_hyperparams_tests['stage'] == 'post']['c-index_test_score']),label = 'hyper-parameter-search rsf')\n",
    "\n",
    "plt.legend()\n",
    "plt.title('Concordance Score of single fitted models VS time-specific models')"
   ]
  },
  {
   "cell_type": "markdown",
   "metadata": {},
   "source": [
    "Lets check if cox with feature selection gives similiar results"
   ]
  },
  {
   "cell_type": "code",
   "execution_count": 40,
   "metadata": {
    "collapsed": true,
    "jupyter": {
     "outputs_hidden": true
    },
    "tags": []
   },
   "outputs": [
    {
     "name": "stdout",
     "output_type": "stream",
     "text": [
      "stage pre, time: 3\n",
      "stage post, time: 3\n",
      "len of current features: 66\n",
      "len of current features: 65\n",
      "len of current features: 64\n",
      "len of current features: 63\n",
      "len of current features: 62\n",
      "len of current features: 61\n",
      "len of current features: 60\n",
      "len of current features: 59\n",
      "len of current features: 58\n",
      "len of current features: 57\n",
      "len of current features: 56\n",
      "len of current features: 55\n",
      "len of current features: 54\n",
      "len of current features: 53\n",
      "len of current features: 52\n",
      "len of current features: 51\n",
      "len of current features: 50\n",
      "len of current features: 49\n",
      "len of current features: 48\n",
      "len of current features: 47\n",
      "len of current features: 46\n",
      "len of current features: 45\n",
      "len of current features: 44\n",
      "len of current features: 43\n",
      "len of current features: 42\n",
      "len of current features: 41\n",
      "len of current features: 40\n",
      "len of current features: 39\n",
      "len of current features: 38\n",
      "len of current features: 37\n",
      "len of current features: 36\n",
      "len of current features: 35\n",
      "len of current features: 34\n",
      "len of current features: 33\n",
      "len of current features: 32\n",
      "len of current features: 31\n",
      "len of current features: 30\n",
      "len of current features: 29\n",
      "len of current features: 28\n",
      "len of current features: 27\n",
      "len of current features: 26\n",
      "len of current features: 25\n",
      "len of current features: 24\n",
      "len of current features: 23\n",
      "len of current features: 22\n",
      "len of current features: 21\n",
      "stage intra, time: 3\n",
      "len of current features: 43\n",
      "len of current features: 42\n",
      "len of current features: 41\n",
      "len of current features: 40\n",
      "len of current features: 39\n",
      "len of current features: 38\n",
      "len of current features: 37\n",
      "len of current features: 36\n",
      "len of current features: 35\n",
      "len of current features: 34\n",
      "len of current features: 33\n",
      "len of current features: 32\n",
      "len of current features: 31\n",
      "len of current features: 30\n",
      "len of current features: 29\n",
      "len of current features: 28\n",
      "len of current features: 27\n",
      "len of current features: 26\n",
      "len of current features: 25\n",
      "len of current features: 24\n",
      "len of current features: 23\n",
      "len of current features: 22\n",
      "len of current features: 21\n",
      "stage pre, time: 6\n",
      "stage post, time: 6\n",
      "len of current features: 66\n",
      "len of current features: 65\n",
      "len of current features: 64\n",
      "len of current features: 63\n",
      "len of current features: 62\n",
      "len of current features: 61\n",
      "len of current features: 60\n",
      "len of current features: 59\n",
      "len of current features: 58\n",
      "len of current features: 57\n",
      "len of current features: 56\n",
      "len of current features: 55\n",
      "len of current features: 54\n",
      "len of current features: 53\n",
      "len of current features: 52\n",
      "len of current features: 51\n",
      "len of current features: 50\n",
      "len of current features: 49\n",
      "len of current features: 48\n",
      "len of current features: 47\n",
      "len of current features: 46\n",
      "len of current features: 45\n",
      "len of current features: 44\n",
      "len of current features: 43\n",
      "len of current features: 42\n",
      "len of current features: 41\n",
      "len of current features: 40\n",
      "len of current features: 39\n",
      "len of current features: 38\n",
      "len of current features: 37\n",
      "len of current features: 36\n",
      "len of current features: 35\n",
      "len of current features: 34\n",
      "len of current features: 33\n",
      "len of current features: 32\n",
      "len of current features: 31\n",
      "len of current features: 30\n",
      "len of current features: 29\n",
      "len of current features: 28\n",
      "len of current features: 27\n",
      "len of current features: 26\n",
      "len of current features: 25\n",
      "len of current features: 24\n",
      "len of current features: 23\n",
      "len of current features: 22\n",
      "len of current features: 21\n",
      "stage intra, time: 6\n",
      "len of current features: 43\n",
      "len of current features: 42\n",
      "len of current features: 41\n",
      "len of current features: 40\n",
      "len of current features: 39\n",
      "len of current features: 38\n",
      "len of current features: 37\n",
      "len of current features: 36\n",
      "len of current features: 35\n",
      "len of current features: 34\n",
      "len of current features: 33\n",
      "len of current features: 32\n",
      "len of current features: 31\n",
      "len of current features: 30\n",
      "len of current features: 29\n",
      "len of current features: 28\n",
      "len of current features: 27\n",
      "len of current features: 26\n",
      "len of current features: 25\n",
      "len of current features: 24\n",
      "len of current features: 23\n",
      "len of current features: 22\n",
      "len of current features: 21\n",
      "stage pre, time: 12\n",
      "stage post, time: 12\n",
      "len of current features: 66\n",
      "len of current features: 65\n",
      "len of current features: 64\n",
      "len of current features: 63\n",
      "len of current features: 62\n",
      "len of current features: 61\n",
      "len of current features: 60\n",
      "len of current features: 59\n",
      "len of current features: 58\n",
      "len of current features: 57\n",
      "len of current features: 56\n",
      "len of current features: 55\n",
      "len of current features: 54\n",
      "len of current features: 53\n",
      "len of current features: 52\n",
      "len of current features: 51\n",
      "len of current features: 50\n",
      "len of current features: 49\n",
      "len of current features: 48\n",
      "len of current features: 47\n",
      "len of current features: 46\n",
      "len of current features: 45\n",
      "len of current features: 44\n",
      "len of current features: 43\n",
      "len of current features: 42\n",
      "len of current features: 41\n",
      "len of current features: 40\n",
      "len of current features: 39\n",
      "len of current features: 38\n",
      "len of current features: 37\n",
      "len of current features: 36\n",
      "len of current features: 35\n",
      "len of current features: 34\n",
      "len of current features: 33\n",
      "len of current features: 32\n",
      "len of current features: 31\n",
      "len of current features: 30\n",
      "len of current features: 29\n",
      "len of current features: 28\n",
      "len of current features: 27\n",
      "len of current features: 26\n",
      "len of current features: 25\n",
      "len of current features: 24\n",
      "len of current features: 23\n",
      "len of current features: 22\n",
      "len of current features: 21\n",
      "stage intra, time: 12\n",
      "len of current features: 43\n",
      "len of current features: 42\n",
      "len of current features: 41\n",
      "len of current features: 40\n",
      "len of current features: 39\n",
      "len of current features: 38\n",
      "len of current features: 37\n",
      "len of current features: 36\n",
      "len of current features: 35\n",
      "len of current features: 34\n",
      "len of current features: 33\n",
      "len of current features: 32\n",
      "len of current features: 31\n",
      "len of current features: 30\n",
      "len of current features: 29\n",
      "len of current features: 28\n",
      "len of current features: 27\n",
      "len of current features: 26\n",
      "len of current features: 25\n",
      "len of current features: 24\n",
      "len of current features: 23\n",
      "len of current features: 22\n",
      "len of current features: 21\n",
      "stage pre, time: 24\n",
      "stage post, time: 24\n",
      "len of current features: 66\n",
      "len of current features: 65\n",
      "len of current features: 64\n",
      "len of current features: 63\n",
      "len of current features: 62\n",
      "len of current features: 61\n",
      "len of current features: 60\n",
      "len of current features: 59\n",
      "len of current features: 58\n",
      "len of current features: 57\n",
      "len of current features: 56\n",
      "len of current features: 55\n",
      "len of current features: 54\n",
      "len of current features: 53\n",
      "len of current features: 52\n",
      "len of current features: 51\n",
      "len of current features: 50\n",
      "len of current features: 49\n",
      "len of current features: 48\n",
      "len of current features: 47\n",
      "len of current features: 46\n",
      "len of current features: 45\n",
      "len of current features: 44\n",
      "len of current features: 43\n",
      "len of current features: 42\n",
      "len of current features: 41\n",
      "len of current features: 40\n",
      "len of current features: 39\n",
      "len of current features: 38\n",
      "len of current features: 37\n",
      "len of current features: 36\n",
      "len of current features: 35\n",
      "len of current features: 34\n",
      "len of current features: 33\n",
      "len of current features: 32\n",
      "len of current features: 31\n",
      "len of current features: 30\n",
      "len of current features: 29\n",
      "len of current features: 28\n",
      "len of current features: 27\n",
      "len of current features: 26\n",
      "len of current features: 25\n",
      "len of current features: 24\n",
      "len of current features: 23\n",
      "len of current features: 22\n",
      "len of current features: 21\n",
      "stage intra, time: 24\n",
      "len of current features: 43\n",
      "len of current features: 42\n",
      "len of current features: 41\n",
      "len of current features: 40\n",
      "len of current features: 39\n",
      "len of current features: 38\n",
      "len of current features: 37\n",
      "len of current features: 36\n",
      "len of current features: 35\n",
      "len of current features: 34\n",
      "len of current features: 33\n",
      "len of current features: 32\n",
      "len of current features: 31\n",
      "len of current features: 30\n",
      "len of current features: 29\n",
      "len of current features: 28\n",
      "len of current features: 27\n",
      "len of current features: 26\n",
      "len of current features: 25\n",
      "len of current features: 24\n",
      "len of current features: 23\n",
      "len of current features: 22\n",
      "len of current features: 21\n"
     ]
    }
   ],
   "source": [
    "cox_model = CoxnetSurvivalAnalysis(l1_ratio = 1e-8, fit_baseline_model=True)\n",
    "cox_hyperparameters_and_features_tests = []\n",
    "\n",
    "\n",
    "for time in [3,6,12,24]:\n",
    "    for stage in ['pre','post','intra']:\n",
    "        print(f'stage {stage}, time: {time}')\n",
    "        stage_df = get_df_for_stage(stage,return_all_features = True, keep_only_aggs = True)\n",
    "        X_train_validation, X_test, y_train_validation, y_test = impute_nan_values_and_split_to_train_test(stage_df,seed = 0)\n",
    "        best_features = get_features_using_rfe(X_train_validation, y_train_validation, model=cox_model, times=[time,time+0.001],\n",
    "                                       n_features_to_keep=20)\n",
    "        X_train_validation = filter_df_columns_from_list(X_train_validation,best_features)\n",
    "        \n",
    "        \n",
    "        \n",
    "        X_test = filter_df_columns_from_list(X_test,best_features)\n",
    "        \n",
    "        cox_scorer = as_integrated_brier_score_scorer(cox_model,times=[time,time+0.001])\n",
    "        cox_scorer.fit(X_train_validation,y_train_validation)\n",
    "        cox_test_brier = cox_scorer.score(X_test,y_test)\n",
    "        \n",
    "\n",
    "\n",
    "        \n",
    "        cox_hyperparameters_and_features_tests.append({'time':time,'stage':stage,'brier_test_score':cox_test_brier,\n",
    "                                                       'features_used':best_features})\n",
    "        "
   ]
  },
  {
   "cell_type": "code",
   "execution_count": 41,
   "metadata": {},
   "outputs": [],
   "source": [
    "cox_check_df = pd.DataFrame(cox_hyperparameters_and_features_tests)"
   ]
  },
  {
   "cell_type": "code",
   "execution_count": 52,
   "metadata": {},
   "outputs": [
    {
     "data": {
      "text/plain": [
       "Text(0.5, 1.0, 'Time specific Cox VS time specific RSF')"
      ]
     },
     "execution_count": 52,
     "metadata": {},
     "output_type": "execute_result"
    },
    {
     "data": {
      "image/png": "[encoded data removed]",
      "text/plain": [
       "<Figure size 432x288 with 1 Axes>"
      ]
     },
     "metadata": {
      "needs_background": "light"
     },
     "output_type": "display_data"
    }
   ],
   "source": [
    "plt.plot([3,6,12,24],np.abs(final_df[final_df['stage'] == 'post']['brier_test_score']),label = 'time-specific rsf')\n",
    "plt.plot([3,6,12,24],np.abs(cox_check_df[cox_check_df['stage'] == 'post']['brier_test_score']),label = 'time-specific cox')\n",
    "plt.plot([3,6,12,24],baseline_results[baseline_results['stage'] == 'post']['brier_test_score'],label='cox')\n",
    "plt.legend()\n",
    "plt.title('Time specific Cox VS time specific RSF')"
   ]
  },
  {
   "cell_type": "markdown",
   "metadata": {},
   "source": [
    "## Lets check feature importances using Permutation Importance"
   ]
  },
  {
   "cell_type": "markdown",
   "metadata": {},
   "source": [
    "We checked Feature importance on all features (witout feature selection step), and later - using feature selection. "
   ]
  },
  {
   "cell_type": "code",
   "execution_count": 148,
   "metadata": {},
   "outputs": [],
   "source": [
    "import eli5\n",
    "from eli5.sklearn import PermutationImportance\n",
    "results = []\n",
    "stage = 'post'\n",
    "time = 12 \n",
    "for time in [3,6,12,24]:\n",
    "    stage_df = get_df_for_stage(stage,return_all_features = True, keep_only_aggs = True)\n",
    "    X_train_validation, X_test, y_train_validation, y_test = impute_nan_values_and_split_to_train_test(stage_df,seed = 0)\n",
    "    X = pd.concat([X_train_validation, X_test])\n",
    "    y = np.concatenate((y_train_validation, y_test), axis=0)\n",
    "    rsf_scorer = as_integrated_brier_score_scorer(rsf_model,times = [time,time+0.001])\n",
    "    rsf_scorer.fit(X,y)\n",
    "    perm = PermutationImportance(rsf_scorer, n_iter=30, random_state=24652)\n",
    "    perm.fit(X, y)\n",
    "    results.append(perm.feature_importances_)\n"
   ]
  },
  {
   "cell_type": "code",
   "execution_count": 149,
   "metadata": {},
   "outputs": [
    {
     "data": {
      "text/html": [
       "<div>\n",
       "<style scoped>\n",
       "    .dataframe tbody tr th:only-of-type {\n",
       "        vertical-align: middle;\n",
       "    }\n",
       "\n",
       "    .dataframe tbody tr th {\n",
       "        vertical-align: top;\n",
       "    }\n",
       "\n",
       "    .dataframe thead th {\n",
       "        text-align: right;\n",
       "    }\n",
       "</style>\n",
       "<table border=\"1\" class=\"dataframe\">\n",
       "  <thead>\n",
       "    <tr style=\"text-align: right;\">\n",
       "      <th></th>\n",
       "      <th>0</th>\n",
       "    </tr>\n",
       "  </thead>\n",
       "  <tbody>\n",
       "    <tr>\n",
       "      <th>Patho %</th>\n",
       "      <td>0.005107</td>\n",
       "    </tr>\n",
       "    <tr>\n",
       "      <th>reoperation</th>\n",
       "      <td>0.005005</td>\n",
       "    </tr>\n",
       "    <tr>\n",
       "      <th>n specimens inv</th>\n",
       "      <td>0.004808</td>\n",
       "    </tr>\n",
       "    <tr>\n",
       "      <th>hospital_stay_days</th>\n",
       "      <td>0.004103</td>\n",
       "    </tr>\n",
       "    <tr>\n",
       "      <th>Pelvic Peritonectomy</th>\n",
       "      <td>0.003695</td>\n",
       "    </tr>\n",
       "    <tr>\n",
       "      <th>PCI</th>\n",
       "      <td>0.003318</td>\n",
       "    </tr>\n",
       "    <tr>\n",
       "      <th>resections_count</th>\n",
       "      <td>0.002940</td>\n",
       "    </tr>\n",
       "    <tr>\n",
       "      <th>complications_count</th>\n",
       "      <td>0.002633</td>\n",
       "    </tr>\n",
       "    <tr>\n",
       "      <th>n specimens sub</th>\n",
       "      <td>0.002179</td>\n",
       "    </tr>\n",
       "    <tr>\n",
       "      <th>weight</th>\n",
       "      <td>0.002102</td>\n",
       "    </tr>\n",
       "    <tr>\n",
       "      <th>Low ileum</th>\n",
       "      <td>0.001711</td>\n",
       "    </tr>\n",
       "    <tr>\n",
       "      <th>Upper Jej</th>\n",
       "      <td>0.001632</td>\n",
       "    </tr>\n",
       "    <tr>\n",
       "      <th>RLQ</th>\n",
       "      <td>0.001530</td>\n",
       "    </tr>\n",
       "    <tr>\n",
       "      <th>age</th>\n",
       "      <td>0.001495</td>\n",
       "    </tr>\n",
       "    <tr>\n",
       "      <th>Upper ileum</th>\n",
       "      <td>0.001476</td>\n",
       "    </tr>\n",
       "  </tbody>\n",
       "</table>\n",
       "</div>"
      ],
      "text/plain": [
       "                             0\n",
       "Patho %               0.005107\n",
       "reoperation           0.005005\n",
       "n specimens inv       0.004808\n",
       "hospital_stay_days    0.004103\n",
       "Pelvic Peritonectomy  0.003695\n",
       "PCI                   0.003318\n",
       "resections_count      0.002940\n",
       "complications_count   0.002633\n",
       "n specimens sub       0.002179\n",
       "weight                0.002102\n",
       "Low ileum             0.001711\n",
       "Upper Jej             0.001632\n",
       "RLQ                   0.001530\n",
       "age                   0.001495\n",
       "Upper ileum           0.001476"
      ]
     },
     "execution_count": 149,
     "metadata": {},
     "output_type": "execute_result"
    }
   ],
   "source": [
    "pd.DataFrame(pd.DataFrame(results).apply(np.mean,axis=0)).set_index(X.columns).sort_values(by=0,ascending=False).head(15)"
   ]
  },
  {
   "cell_type": "markdown",
   "metadata": {},
   "source": [
    "With feature selection"
   ]
  },
  {
   "cell_type": "code",
   "execution_count": null,
   "metadata": {},
   "outputs": [],
   "source": [
    "best_overall_features"
   ]
  },
  {
   "cell_type": "code",
   "execution_count": 147,
   "metadata": {
    "collapsed": true,
    "jupyter": {
     "outputs_hidden": true
    },
    "tags": []
   },
   "outputs": [
    {
     "data": {
      "text/html": [
       "<div>\n",
       "<style scoped>\n",
       "    .dataframe tbody tr th:only-of-type {\n",
       "        vertical-align: middle;\n",
       "    }\n",
       "\n",
       "    .dataframe tbody tr th {\n",
       "        vertical-align: top;\n",
       "    }\n",
       "\n",
       "    .dataframe thead th {\n",
       "        text-align: right;\n",
       "    }\n",
       "</style>\n",
       "<table border=\"1\" class=\"dataframe\">\n",
       "  <thead>\n",
       "    <tr style=\"text-align: right;\">\n",
       "      <th></th>\n",
       "      <th>0</th>\n",
       "    </tr>\n",
       "  </thead>\n",
       "  <tbody>\n",
       "    <tr>\n",
       "      <th>n specimens inv</th>\n",
       "      <td>0.010170</td>\n",
       "    </tr>\n",
       "    <tr>\n",
       "      <th>Patho %</th>\n",
       "      <td>0.008996</td>\n",
       "    </tr>\n",
       "    <tr>\n",
       "      <th>hospital_stay_days</th>\n",
       "      <td>0.008825</td>\n",
       "    </tr>\n",
       "    <tr>\n",
       "      <th>PCI</th>\n",
       "      <td>0.007383</td>\n",
       "    </tr>\n",
       "    <tr>\n",
       "      <th>reoperation</th>\n",
       "      <td>0.007310</td>\n",
       "    </tr>\n",
       "    <tr>\n",
       "      <th>height</th>\n",
       "      <td>0.004144</td>\n",
       "    </tr>\n",
       "    <tr>\n",
       "      <th>weight</th>\n",
       "      <td>0.003973</td>\n",
       "    </tr>\n",
       "    <tr>\n",
       "      <th>or_time</th>\n",
       "      <td>0.003530</td>\n",
       "    </tr>\n",
       "    <tr>\n",
       "      <th>LLQ</th>\n",
       "      <td>0.002138</td>\n",
       "    </tr>\n",
       "    <tr>\n",
       "      <th>N</th>\n",
       "      <td>0.002028</td>\n",
       "    </tr>\n",
       "  </tbody>\n",
       "</table>\n",
       "</div>"
      ],
      "text/plain": [
       "                           0\n",
       "n specimens inv     0.010170\n",
       "Patho %             0.008996\n",
       "hospital_stay_days  0.008825\n",
       "PCI                 0.007383\n",
       "reoperation         0.007310\n",
       "height              0.004144\n",
       "weight              0.003973\n",
       "or_time             0.003530\n",
       "LLQ                 0.002138\n",
       "N                   0.002028"
      ]
     },
     "execution_count": 147,
     "metadata": {},
     "output_type": "execute_result"
    }
   ],
   "source": [
    "feature_selection_results = []\n",
    "for time in [3,6,12,24]:\n",
    "    stage_df = get_df_for_stage(stage,return_all_features = True, keep_only_aggs = True)\n",
    "    X_train_validation, X_test, y_train_validation, y_test = impute_nan_values_and_split_to_train_test(stage_df,seed = 0)\n",
    "    X_train_validation= filter_df_columns_from_list(X_train_validation,best_overall_features)\n",
    "    X_test= filter_df_columns_from_list(X_test,best_overall_features)\n",
    "    X = pd.concat([X_train_validation, X_test])\n",
    "    y = np.concatenate((y_train_validation, y_test), axis=0)\n",
    "    rsf_scorer = as_integrated_brier_score_scorer(rsf_model,times = [time,time+0.001])\n",
    "    rsf_scorer.fit(X,y)\n",
    "    perm = PermutationImportance(rsf_scorer, n_iter=30, random_state=24652)\n",
    "    perm.fit(X, y)\n",
    "    feature_selection_results.append(perm.feature_importances_)\n"
   ]
  },
  {
   "cell_type": "code",
   "execution_count": 151,
   "metadata": {},
   "outputs": [],
   "source": [
    "stage_df = get_df_for_stage(stage,return_all_features = True, keep_only_aggs = True)\n",
    "X_train_validation, X_test, y_train_validation, y_test = impute_nan_values_and_split_to_train_test(stage_df,seed = 0)\n",
    "X_train_validation= filter_df_columns_from_list(X_train_validation,best_overall_features)\n",
    "X_test= filter_df_columns_from_list(X_test,best_overall_features)\n",
    "X_feature_selection = pd.concat([X_train_validation, X_test])\n",
    "y_feature_selection = np.concatenate((y_train_validation, y_test), axis=0)"
   ]
  },
  {
   "cell_type": "code",
   "execution_count": 152,
   "metadata": {},
   "outputs": [
    {
     "data": {
      "text/html": [
       "<div>\n",
       "<style scoped>\n",
       "    .dataframe tbody tr th:only-of-type {\n",
       "        vertical-align: middle;\n",
       "    }\n",
       "\n",
       "    .dataframe tbody tr th {\n",
       "        vertical-align: top;\n",
       "    }\n",
       "\n",
       "    .dataframe thead th {\n",
       "        text-align: right;\n",
       "    }\n",
       "</style>\n",
       "<table border=\"1\" class=\"dataframe\">\n",
       "  <thead>\n",
       "    <tr style=\"text-align: right;\">\n",
       "      <th></th>\n",
       "      <th>0</th>\n",
       "    </tr>\n",
       "  </thead>\n",
       "  <tbody>\n",
       "    <tr>\n",
       "      <th>n specimens inv</th>\n",
       "      <td>0.010170</td>\n",
       "    </tr>\n",
       "    <tr>\n",
       "      <th>Patho %</th>\n",
       "      <td>0.008996</td>\n",
       "    </tr>\n",
       "    <tr>\n",
       "      <th>hospital_stay_days</th>\n",
       "      <td>0.008825</td>\n",
       "    </tr>\n",
       "    <tr>\n",
       "      <th>PCI</th>\n",
       "      <td>0.007383</td>\n",
       "    </tr>\n",
       "    <tr>\n",
       "      <th>reoperation</th>\n",
       "      <td>0.007310</td>\n",
       "    </tr>\n",
       "    <tr>\n",
       "      <th>height</th>\n",
       "      <td>0.004144</td>\n",
       "    </tr>\n",
       "    <tr>\n",
       "      <th>weight</th>\n",
       "      <td>0.003973</td>\n",
       "    </tr>\n",
       "    <tr>\n",
       "      <th>or_time</th>\n",
       "      <td>0.003530</td>\n",
       "    </tr>\n",
       "    <tr>\n",
       "      <th>LLQ</th>\n",
       "      <td>0.002138</td>\n",
       "    </tr>\n",
       "    <tr>\n",
       "      <th>N</th>\n",
       "      <td>0.002028</td>\n",
       "    </tr>\n",
       "    <tr>\n",
       "      <th>SPS</th>\n",
       "      <td>0.001979</td>\n",
       "    </tr>\n",
       "    <tr>\n",
       "      <th>Epigastric</th>\n",
       "      <td>0.001800</td>\n",
       "    </tr>\n",
       "    <tr>\n",
       "      <th>Low Jej</th>\n",
       "      <td>0.001768</td>\n",
       "    </tr>\n",
       "    <tr>\n",
       "      <th>LUQ</th>\n",
       "      <td>0.001712</td>\n",
       "    </tr>\n",
       "    <tr>\n",
       "      <th>icu_stay_days</th>\n",
       "      <td>0.001565</td>\n",
       "    </tr>\n",
       "  </tbody>\n",
       "</table>\n",
       "</div>"
      ],
      "text/plain": [
       "                           0\n",
       "n specimens inv     0.010170\n",
       "Patho %             0.008996\n",
       "hospital_stay_days  0.008825\n",
       "PCI                 0.007383\n",
       "reoperation         0.007310\n",
       "height              0.004144\n",
       "weight              0.003973\n",
       "or_time             0.003530\n",
       "LLQ                 0.002138\n",
       "N                   0.002028\n",
       "SPS                 0.001979\n",
       "Epigastric          0.001800\n",
       "Low Jej             0.001768\n",
       "LUQ                 0.001712\n",
       "icu_stay_days       0.001565"
      ]
     },
     "execution_count": 152,
     "metadata": {},
     "output_type": "execute_result"
    }
   ],
   "source": [
    "pd.DataFrame(pd.DataFrame(feature_selection_results).apply(np.mean,axis=0)).set_index(X_feature_selection.columns).sort_values(by=0,ascending=False).head(15)"
   ]
  },
  {
   "cell_type": "markdown",
   "metadata": {},
   "source": [
    "We can see that some of the features keep coming back! n_specimens, Patho %, PCI, Hospital stay days...\n",
    "Interesting!"
   ]
  }
 ],
 "metadata": {
  "kernelspec": {
   "display_name": "Python 3",
   "language": "python",
   "name": "python3"
  },
  "language_info": {
   "codemirror_mode": {
    "name": "ipython",
    "version": 3
   },
   "file_extension": ".py",
   "mimetype": "text/x-python",
   "name": "python",
   "nbconvert_exporter": "python",
   "pygments_lexer": "ipython3",
   "version": "3.8.10"
  }
 },
 "nbformat": 4,
 "nbformat_minor": 4
}
